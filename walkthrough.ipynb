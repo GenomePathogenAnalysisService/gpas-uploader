{
 "cells": [
  {
   "cell_type": "code",
   "execution_count": 1,
   "id": "8a1f02b1-ff48-448c-8bd6-080da0a24205",
   "metadata": {},
   "outputs": [],
   "source": [
    "import pandas, json, pathlib\n",
    "\n",
    "pandas.options.display.max_columns=999\n",
    "\n",
    "import gpas_uploader\n",
    "\n",
    "%load_ext autoreload\n",
    "%autoreload 2"
   ]
  },
  {
   "cell_type": "code",
   "execution_count": null,
   "id": "c1e08e47-2f08-40b2-b05f-fb025541efcc",
   "metadata": {},
   "outputs": [],
   "source": [
    "upload_csv = gpas_uploader.Batch('/Users/fowler/packages/gpas-uploader/tests/files/nanopore-bam-upload-csv-fail-1.csv',\\\n",
    "                                 run_parallel=True,\\\n",
    "                                 environment='development',\\\n",
    "                                 tags_file='tests/files/tags.txt',\\\n",
    "                                 token_file='/Users/fowler/Dropbox/focus/gpas/api-calls/token.json')"
   ]
  },
  {
   "cell_type": "code",
   "execution_count": 78,
   "id": "cb2b88c0-cb82-4fae-b52e-f82ac23ba5e1",
   "metadata": {},
   "outputs": [],
   "source": [
    "upload_csv = gpas_uploader.Batch('/Users/fowler/packages/gpas-uploader/tests/files/nanopore-bam-upload-csv-fail-1.csv',\\\n",
    "                                 run_parallel=True,\\\n",
    "                                 tags_file='tests/files/tags.txt')"
   ]
  },
  {
   "cell_type": "code",
   "execution_count": 79,
   "id": "aaa3401b-b8a3-45ab-90ca-9726e0ac64be",
   "metadata": {},
   "outputs": [
    {
     "name": "stdout",
     "output_type": "stream",
     "text": [
      "  sample_name                                      error_message\n",
      "7        None  specified regions are not valid ISO-3166-2 reg...\n",
      "0     sample1   batch can only contain characters (A-Za-z0-9._-)\n",
      "1     sample1  neg in the control field is not valid: field m...\n",
      "2     sample1            collection_date cannot be in the future\n",
      "3     sample1         Finistere is not a valid ISO-3166-2 region\n",
      "4     sample1            host can only contain the keyword human\n",
      "5     sample1  specimen_organism can only contain the keyword...\n",
      "6     sample1    primer_scheme can only contain the keyword auto\n"
     ]
    }
   ],
   "source": [
    "upload_csv.validate()"
   ]
  },
  {
   "cell_type": "code",
   "execution_count": 80,
   "id": "cafc5a75-cf71-4108-bb1f-4d79a9059c4f",
   "metadata": {},
   "outputs": [
    {
     "data": {
      "text/html": [
       "<div>\n",
       "<style scoped>\n",
       "    .dataframe tbody tr th:only-of-type {\n",
       "        vertical-align: middle;\n",
       "    }\n",
       "\n",
       "    .dataframe tbody tr th {\n",
       "        vertical-align: top;\n",
       "    }\n",
       "\n",
       "    .dataframe thead th {\n",
       "        text-align: right;\n",
       "    }\n",
       "</style>\n",
       "<table border=\"1\" class=\"dataframe\">\n",
       "  <thead>\n",
       "    <tr style=\"text-align: right;\">\n",
       "      <th></th>\n",
       "      <th>sample_name</th>\n",
       "      <th>batch</th>\n",
       "      <th>run_number</th>\n",
       "      <th>control</th>\n",
       "      <th>collection_date</th>\n",
       "      <th>tags</th>\n",
       "      <th>country</th>\n",
       "      <th>region</th>\n",
       "      <th>district</th>\n",
       "      <th>specimen_organism</th>\n",
       "      <th>host</th>\n",
       "      <th>instrument_platform</th>\n",
       "      <th>primer_scheme</th>\n",
       "      <th>fastq</th>\n",
       "      <th>tags_ok</th>\n",
       "    </tr>\n",
       "  </thead>\n",
       "  <tbody>\n",
       "    <tr>\n",
       "      <th>0</th>\n",
       "      <td>sample1</td>\n",
       "      <td>run 1</td>\n",
       "      <td>run1.1</td>\n",
       "      <td>neg</td>\n",
       "      <td>2122-02-01</td>\n",
       "      <td>site0:repeat:special_project</td>\n",
       "      <td>USA</td>\n",
       "      <td>Finistere</td>\n",
       "      <td>1124</td>\n",
       "      <td>Covid</td>\n",
       "      <td>Homo sapiens</td>\n",
       "      <td>Nanopore</td>\n",
       "      <td>ARTICv4.1</td>\n",
       "      <td>unpaired1.fastq.gz</td>\n",
       "      <td>False</td>\n",
       "    </tr>\n",
       "  </tbody>\n",
       "</table>\n",
       "</div>"
      ],
      "text/plain": [
       "  sample_name  batch run_number control collection_date  \\\n",
       "0     sample1  run 1     run1.1     neg      2122-02-01   \n",
       "\n",
       "                           tags country     region district specimen_organism  \\\n",
       "0  site0:repeat:special_project     USA  Finistere     1124             Covid   \n",
       "\n",
       "           host instrument_platform primer_scheme               fastq  tags_ok  \n",
       "0  Homo sapiens            Nanopore     ARTICv4.1  unpaired1.fastq.gz    False  "
      ]
     },
     "execution_count": 80,
     "metadata": {},
     "output_type": "execute_result"
    }
   ],
   "source": [
    "upload_csv.df"
   ]
  },
  {
   "cell_type": "code",
   "execution_count": 73,
   "id": "b12feae5-2559-454c-83c4-da4a26201f4c",
   "metadata": {},
   "outputs": [
    {
     "data": {
      "text/plain": [
       "True"
      ]
     },
     "execution_count": 73,
     "metadata": {},
     "output_type": "execute_result"
    }
   ],
   "source": [
    "upload_csv.valid #, upload_csv.sequencing_platform, upload_csv.uploaded_on, upload_csv.user_name, upload_csv.user_organisation"
   ]
  },
  {
   "cell_type": "code",
   "execution_count": 74,
   "id": "2500a6af-6cb0-4719-846d-44922ba97689",
   "metadata": {},
   "outputs": [
    {
     "data": {
      "text/html": [
       "<div>\n",
       "<style scoped>\n",
       "    .dataframe tbody tr th:only-of-type {\n",
       "        vertical-align: middle;\n",
       "    }\n",
       "\n",
       "    .dataframe tbody tr th {\n",
       "        vertical-align: top;\n",
       "    }\n",
       "\n",
       "    .dataframe thead th {\n",
       "        text-align: right;\n",
       "    }\n",
       "</style>\n",
       "<table border=\"1\" class=\"dataframe\">\n",
       "  <thead>\n",
       "    <tr style=\"text-align: right;\">\n",
       "      <th></th>\n",
       "      <th>error_message</th>\n",
       "    </tr>\n",
       "    <tr>\n",
       "      <th>sample_name</th>\n",
       "      <th></th>\n",
       "    </tr>\n",
       "  </thead>\n",
       "  <tbody>\n",
       "  </tbody>\n",
       "</table>\n",
       "</div>"
      ],
      "text/plain": [
       "Empty DataFrame\n",
       "Columns: [error_message]\n",
       "Index: []"
      ]
     },
     "execution_count": 74,
     "metadata": {},
     "output_type": "execute_result"
    }
   ],
   "source": [
    "upload_csv.validation_errors"
   ]
  },
  {
   "cell_type": "code",
   "execution_count": 75,
   "id": "776f55a9-b69e-491f-b5dc-fffa30283298",
   "metadata": {},
   "outputs": [
    {
     "name": "stdout",
     "output_type": "stream",
     "text": [
      "0 sample_name                                                sample5\n",
      "error_message    /tmp/sample5.reads.fastq.gz is too small (< 10...\n",
      "Name: 0, dtype: object\n"
     ]
    }
   ],
   "source": [
    "upload_csv.decontaminate()"
   ]
  },
  {
   "cell_type": "code",
   "execution_count": 76,
   "id": "12f59473-e0bf-4472-b4bb-2c77c5f741cf",
   "metadata": {},
   "outputs": [
    {
     "data": {
      "text/html": [
       "<div>\n",
       "<style scoped>\n",
       "    .dataframe tbody tr th:only-of-type {\n",
       "        vertical-align: middle;\n",
       "    }\n",
       "\n",
       "    .dataframe tbody tr th {\n",
       "        vertical-align: top;\n",
       "    }\n",
       "\n",
       "    .dataframe thead th {\n",
       "        text-align: right;\n",
       "    }\n",
       "</style>\n",
       "<table border=\"1\" class=\"dataframe\">\n",
       "  <thead>\n",
       "    <tr style=\"text-align: right;\">\n",
       "      <th></th>\n",
       "      <th>sample_name</th>\n",
       "      <th>error_message</th>\n",
       "    </tr>\n",
       "  </thead>\n",
       "  <tbody>\n",
       "    <tr>\n",
       "      <th>0</th>\n",
       "      <td>sample5</td>\n",
       "      <td>/tmp/sample5.reads.fastq.gz is too small (&lt; 10...</td>\n",
       "    </tr>\n",
       "  </tbody>\n",
       "</table>\n",
       "</div>"
      ],
      "text/plain": [
       "  sample_name                                      error_message\n",
       "0     sample5  /tmp/sample5.reads.fastq.gz is too small (< 10..."
      ]
     },
     "execution_count": 76,
     "metadata": {},
     "output_type": "execute_result"
    }
   ],
   "source": [
    "upload_csv.decontamination_errors"
   ]
  },
  {
   "cell_type": "code",
   "execution_count": 77,
   "id": "71b1e676-f5f1-483a-a067-2c43a4189160",
   "metadata": {},
   "outputs": [
    {
     "data": {
      "text/html": [
       "<div>\n",
       "<style scoped>\n",
       "    .dataframe tbody tr th:only-of-type {\n",
       "        vertical-align: middle;\n",
       "    }\n",
       "\n",
       "    .dataframe tbody tr th {\n",
       "        vertical-align: top;\n",
       "    }\n",
       "\n",
       "    .dataframe thead th {\n",
       "        text-align: right;\n",
       "    }\n",
       "</style>\n",
       "<table border=\"1\" class=\"dataframe\">\n",
       "  <thead>\n",
       "    <tr style=\"text-align: right;\">\n",
       "      <th></th>\n",
       "      <th>sample_name</th>\n",
       "      <th>batch</th>\n",
       "      <th>run_number</th>\n",
       "      <th>fastq</th>\n",
       "      <th>control</th>\n",
       "      <th>collection_date</th>\n",
       "      <th>tags</th>\n",
       "      <th>country</th>\n",
       "      <th>region</th>\n",
       "      <th>district</th>\n",
       "      <th>specimen_organism</th>\n",
       "      <th>host</th>\n",
       "      <th>instrument_platform</th>\n",
       "      <th>primer_scheme</th>\n",
       "      <th>tags_ok</th>\n",
       "      <th>r_uri</th>\n",
       "      <th>r_md5</th>\n",
       "      <th>r_sha</th>\n",
       "      <th>gpas_batch</th>\n",
       "      <th>gpas_sample_name</th>\n",
       "      <th>gpas_run_number</th>\n",
       "    </tr>\n",
       "  </thead>\n",
       "  <tbody>\n",
       "    <tr>\n",
       "      <th>0</th>\n",
       "      <td>sample1</td>\n",
       "      <td>run1</td>\n",
       "      <td>run1.1</td>\n",
       "      <td>unpaired1.fastq.gz</td>\n",
       "      <td>negative</td>\n",
       "      <td>2022-02-01</td>\n",
       "      <td>site0:repeat</td>\n",
       "      <td>USA</td>\n",
       "      <td>Texas</td>\n",
       "      <td>1124</td>\n",
       "      <td>SARS-CoV-2</td>\n",
       "      <td>human</td>\n",
       "      <td>Illumina</td>\n",
       "      <td>auto</td>\n",
       "      <td>True</td>\n",
       "      <td>/tmp/deabe51e-01eb-49cb-a04f-b5ee06a5798e.read...</td>\n",
       "      <td>467c645b8285270f9ddcee4b0fa2f7ae</td>\n",
       "      <td>a2dd4d2459b1356db1d89219cb405a9ed80694974d19c8...</td>\n",
       "      <td>B-4D2TJVC</td>\n",
       "      <td>deabe51e-01eb-49cb-a04f-b5ee06a5798e</td>\n",
       "      <td>1</td>\n",
       "    </tr>\n",
       "    <tr>\n",
       "      <th>1</th>\n",
       "      <td>sample5</td>\n",
       "      <td>run1</td>\n",
       "      <td>run1.2</td>\n",
       "      <td>unpaired3.fastq.gz</td>\n",
       "      <td>positive</td>\n",
       "      <td>2022-03-08</td>\n",
       "      <td>site0</td>\n",
       "      <td>GBR</td>\n",
       "      <td>Oxfordshire</td>\n",
       "      <td></td>\n",
       "      <td>SARS-CoV-2</td>\n",
       "      <td>human</td>\n",
       "      <td>Illumina</td>\n",
       "      <td>auto</td>\n",
       "      <td>True</td>\n",
       "      <td>/tmp/e96df5cf-5361-4fe2-9073-588246268442.read...</td>\n",
       "      <td>16db6212ae61a24b1a9921bdd7c58c1f</td>\n",
       "      <td>abfbb86f9f5ddfbd9fc1a72c43ab384702ce8bae86b60f...</td>\n",
       "      <td>B-4D2TJVC</td>\n",
       "      <td>e96df5cf-5361-4fe2-9073-588246268442</td>\n",
       "      <td>2</td>\n",
       "    </tr>\n",
       "  </tbody>\n",
       "</table>\n",
       "</div>"
      ],
      "text/plain": [
       "  sample_name batch run_number               fastq   control collection_date  \\\n",
       "0     sample1  run1     run1.1  unpaired1.fastq.gz  negative      2022-02-01   \n",
       "1     sample5  run1     run1.2  unpaired3.fastq.gz  positive      2022-03-08   \n",
       "\n",
       "           tags country       region district specimen_organism   host  \\\n",
       "0  site0:repeat     USA        Texas     1124        SARS-CoV-2  human   \n",
       "1         site0     GBR  Oxfordshire                 SARS-CoV-2  human   \n",
       "\n",
       "  instrument_platform primer_scheme  tags_ok  \\\n",
       "0            Illumina          auto     True   \n",
       "1            Illumina          auto     True   \n",
       "\n",
       "                                               r_uri  \\\n",
       "0  /tmp/deabe51e-01eb-49cb-a04f-b5ee06a5798e.read...   \n",
       "1  /tmp/e96df5cf-5361-4fe2-9073-588246268442.read...   \n",
       "\n",
       "                              r_md5  \\\n",
       "0  467c645b8285270f9ddcee4b0fa2f7ae   \n",
       "1  16db6212ae61a24b1a9921bdd7c58c1f   \n",
       "\n",
       "                                               r_sha gpas_batch  \\\n",
       "0  a2dd4d2459b1356db1d89219cb405a9ed80694974d19c8...  B-4D2TJVC   \n",
       "1  abfbb86f9f5ddfbd9fc1a72c43ab384702ce8bae86b60f...  B-4D2TJVC   \n",
       "\n",
       "                       gpas_sample_name  gpas_run_number  \n",
       "0  deabe51e-01eb-49cb-a04f-b5ee06a5798e                1  \n",
       "1  e96df5cf-5361-4fe2-9073-588246268442                2  "
      ]
     },
     "execution_count": 77,
     "metadata": {},
     "output_type": "execute_result"
    }
   ],
   "source": [
    "upload_csv.df"
   ]
  },
  {
   "cell_type": "code",
   "execution_count": null,
   "id": "39fab97a-182c-429b-aa44-c47197faf9c2",
   "metadata": {},
   "outputs": [],
   "source": [
    "a = gpas_uploader.Batch('tests/files/nanopore-bam-upload-csv-pass-1.csv')"
   ]
  },
  {
   "cell_type": "code",
   "execution_count": null,
   "id": "83bf5f63-586b-42cc-8689-008fdc972c33",
   "metadata": {},
   "outputs": [],
   "source": [
    "a.validate()"
   ]
  },
  {
   "cell_type": "code",
   "execution_count": 19,
   "id": "de99b58e-9fda-410c-858d-8ee0d6242bdf",
   "metadata": {},
   "outputs": [
    {
     "data": {
      "text/plain": [
       "{'submission': {'status': 'failure',\n",
       "  'samples': [{'sample': '1487fd53-12f0-4de8-b3cd-cf5f9c466d24',\n",
       "    'error': '/tmp/sample5.reads.fastq.gz is too small (< 100 bytes)'}]}}"
      ]
     },
     "execution_count": 19,
     "metadata": {},
     "output_type": "execute_result"
    }
   ],
   "source": [
    "upload_csv.decontamination_json"
   ]
  },
  {
   "cell_type": "code",
   "execution_count": null,
   "id": "d395e3cd-b257-43dd-bbba-a33ef9257181",
   "metadata": {},
   "outputs": [],
   "source": [
    "upload_csv.permitted_tags"
   ]
  },
  {
   "cell_type": "code",
   "execution_count": null,
   "id": "a0652b70-bacc-4904-9299-5a2f732eba4b",
   "metadata": {},
   "outputs": [],
   "source": [
    "upload_csv.submit()"
   ]
  },
  {
   "cell_type": "code",
   "execution_count": null,
   "id": "dfb634a2-3d56-4718-b877-d33b01aff12b",
   "metadata": {},
   "outputs": [],
   "source": [
    "upload_csv.df"
   ]
  },
  {
   "cell_type": "code",
   "execution_count": null,
   "id": "9a737426-e19b-435d-ad8e-32ff8a9ca5ec",
   "metadata": {},
   "outputs": [],
   "source": [
    "upload_csv.valid"
   ]
  },
  {
   "cell_type": "code",
   "execution_count": null,
   "id": "261ce0c7-cc9c-40f1-849a-d06df4ae4ae2",
   "metadata": {},
   "outputs": [],
   "source": [
    "upload_csv.validation_errors"
   ]
  },
  {
   "cell_type": "code",
   "execution_count": null,
   "id": "a9cb2899-60d8-4675-bb4f-dc127a79f027",
   "metadata": {},
   "outputs": [],
   "source": [
    "upload_csv.validation_json"
   ]
  },
  {
   "cell_type": "code",
   "execution_count": null,
   "id": "d1099e82-19be-456d-8619-74b93ca86109",
   "metadata": {},
   "outputs": [],
   "source": [
    "upload_csv.decontaminate()"
   ]
  },
  {
   "cell_type": "code",
   "execution_count": null,
   "id": "619b47b3-7333-4115-9753-6c57156810d5",
   "metadata": {},
   "outputs": [],
   "source": [
    "upload_csv.df"
   ]
  },
  {
   "cell_type": "code",
   "execution_count": null,
   "id": "95b2d0ff-94be-4711-a58c-0a07c7ee2664",
   "metadata": {},
   "outputs": [],
   "source": [
    "upload_csv.decontamination_json"
   ]
  },
  {
   "cell_type": "code",
   "execution_count": null,
   "id": "a3f62a82-909b-4477-b5e2-63f6bcb7f578",
   "metadata": {},
   "outputs": [],
   "source": [
    "print(None and None)"
   ]
  },
  {
   "cell_type": "code",
   "execution_count": null,
   "id": "dcb109a3-c955-4b3b-9ffa-81e4ac6269ad",
   "metadata": {},
   "outputs": [],
   "source": [
    "print('a' and 'b')"
   ]
  },
  {
   "cell_type": "code",
   "execution_count": null,
   "id": "e8e67430-9545-48f9-b9ec-6a2f7e00b99d",
   "metadata": {},
   "outputs": [],
   "source": [
    "\n",
    "a = 'f'\n",
    "b = 'None'\n",
    "\n",
    "print(a is not None and b is not None)"
   ]
  },
  {
   "cell_type": "code",
   "execution_count": null,
   "id": "4a91b86e-3239-4181-8eaf-0d9d4f61ba9a",
   "metadata": {},
   "outputs": [],
   "source": [
    "upload_csv.df"
   ]
  },
  {
   "cell_type": "code",
   "execution_count": null,
   "id": "7381b17f-41a0-4053-9421-eb4bfdbed755",
   "metadata": {},
   "outputs": [],
   "source": [
    "list(upload_csv.df.r1_md5)"
   ]
  },
  {
   "cell_type": "code",
   "execution_count": null,
   "id": "53c4d243-5194-42e4-9e5d-1eed97eb728d",
   "metadata": {},
   "outputs": [],
   "source": [
    "import re"
   ]
  },
  {
   "cell_type": "code",
   "execution_count": null,
   "id": "d191f4d3-b4b9-4064-bf88-164b7b1acdfc",
   "metadata": {},
   "outputs": [],
   "source": [
    "# if re.match(\"^[A-Za-z0-9-_.]+$\", \"filenameeé.csv\"):\n",
    "if re.match(\"^[\\w_.]+$\", \"filenameeé.csv\"):\n",
    "    print(True)\n",
    "else:\n",
    "    print(False)"
   ]
  },
  {
   "cell_type": "code",
   "execution_count": null,
   "id": "434a9d5b-6c54-44c1-92ea-7100b91e7e2d",
   "metadata": {},
   "outputs": [],
   "source": []
  }
 ],
 "metadata": {
  "kernelspec": {
   "display_name": "Python 3 (ipykernel)",
   "language": "python",
   "name": "python3"
  },
  "language_info": {
   "codemirror_mode": {
    "name": "ipython",
    "version": 3
   },
   "file_extension": ".py",
   "mimetype": "text/x-python",
   "name": "python",
   "nbconvert_exporter": "python",
   "pygments_lexer": "ipython3",
   "version": "3.9.10"
  }
 },
 "nbformat": 4,
 "nbformat_minor": 5
}
