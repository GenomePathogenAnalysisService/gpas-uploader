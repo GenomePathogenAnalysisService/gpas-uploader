{
 "cells": [
  {
   "cell_type": "code",
   "execution_count": 116,
   "id": "8a1f02b1-ff48-448c-8bd6-080da0a24205",
   "metadata": {},
   "outputs": [
    {
     "name": "stdout",
     "output_type": "stream",
     "text": [
      "The autoreload extension is already loaded. To reload it, use:\n",
      "  %reload_ext autoreload\n"
     ]
    }
   ],
   "source": [
    "import pandas, json, pathlib, requests\n",
    "\n",
    "pandas.options.display.max_columns=999\n",
    "\n",
    "import gpas_uploader\n",
    "\n",
    "%load_ext autoreload\n",
    "%autoreload 2"
   ]
  },
  {
   "cell_type": "code",
   "execution_count": 260,
   "id": "056c9483-1cb9-4060-9d2d-474961393c67",
   "metadata": {},
   "outputs": [],
   "source": [
    "submit_errors = pandas.DataFrame(None, columns=['sample_name', 'error_message'])"
   ]
  },
  {
   "cell_type": "code",
   "execution_count": 268,
   "id": "e3a40030-a697-4481-ae2a-3b191ea41e30",
   "metadata": {},
   "outputs": [
    {
     "name": "stderr",
     "output_type": "stream",
     "text": [
      "/var/folders/np/2z_qny9911n2mqth2n63j9y80009px/T/ipykernel_7739/3538128874.py:1: FutureWarning: The frame.append method is deprecated and will be removed from pandas in a future version. Use pandas.concat instead.\n",
      "  submit_errors.append(pandas.DataFrame([[1,2]], columns=['sample_name', 'error_message']))\n"
     ]
    },
    {
     "data": {
      "text/html": [
       "<div>\n",
       "<style scoped>\n",
       "    .dataframe tbody tr th:only-of-type {\n",
       "        vertical-align: middle;\n",
       "    }\n",
       "\n",
       "    .dataframe tbody tr th {\n",
       "        vertical-align: top;\n",
       "    }\n",
       "\n",
       "    .dataframe thead th {\n",
       "        text-align: right;\n",
       "    }\n",
       "</style>\n",
       "<table border=\"1\" class=\"dataframe\">\n",
       "  <thead>\n",
       "    <tr style=\"text-align: right;\">\n",
       "      <th></th>\n",
       "      <th>sample_name</th>\n",
       "      <th>error_message</th>\n",
       "    </tr>\n",
       "  </thead>\n",
       "  <tbody>\n",
       "    <tr>\n",
       "      <th>0</th>\n",
       "      <td>1</td>\n",
       "      <td>2</td>\n",
       "    </tr>\n",
       "  </tbody>\n",
       "</table>\n",
       "</div>"
      ],
      "text/plain": [
       "  sample_name error_message\n",
       "0           1             2"
      ]
     },
     "execution_count": 268,
     "metadata": {},
     "output_type": "execute_result"
    }
   ],
   "source": [
    "submit_errors.append(pandas.DataFrame([[1,2]], columns=['sample_name', 'error_message']))"
   ]
  },
  {
   "cell_type": "code",
   "execution_count": 256,
   "id": "c1e08e47-2f08-40b2-b05f-fb025541efcc",
   "metadata": {},
   "outputs": [
    {
     "ename": "HTTPError",
     "evalue": "401 Client Error: Unauthorized for url: https://portal.dev.gpas.ox.ac.uk/ords/gpasdevpdb1/grep/electron/userOrgDtls",
     "output_type": "error",
     "traceback": [
      "\u001b[0;31m---------------------------------------------------------------------------\u001b[0m",
      "\u001b[0;31mHTTPError\u001b[0m                                 Traceback (most recent call last)",
      "Input \u001b[0;32mIn [256]\u001b[0m, in \u001b[0;36m<module>\u001b[0;34m\u001b[0m\n\u001b[0;32m----> 1\u001b[0m upload_csv \u001b[38;5;241m=\u001b[39m \u001b[43mgpas_uploader\u001b[49m\u001b[38;5;241;43m.\u001b[39;49m\u001b[43mBatch\u001b[49m\u001b[43m(\u001b[49m\u001b[38;5;124;43m'\u001b[39;49m\u001b[38;5;124;43m/Users/fowler/packages/gpas-uploader/examples/nanopore-fastq-upload.csv\u001b[39;49m\u001b[38;5;124;43m'\u001b[39;49m\u001b[43m,\u001b[49m\u001b[43m\\\u001b[49m\n\u001b[1;32m      2\u001b[0m \u001b[43m                                 \u001b[49m\u001b[43mrun_parallel\u001b[49m\u001b[38;5;241;43m=\u001b[39;49m\u001b[38;5;28;43;01mTrue\u001b[39;49;00m\u001b[43m,\u001b[49m\u001b[43m\\\u001b[49m\n\u001b[1;32m      3\u001b[0m \u001b[43m                                 \u001b[49m\u001b[43menvironment\u001b[49m\u001b[38;5;241;43m=\u001b[39;49m\u001b[38;5;124;43m'\u001b[39;49m\u001b[38;5;124;43mdevelopment\u001b[39;49m\u001b[38;5;124;43m'\u001b[39;49m\u001b[43m,\u001b[49m\u001b[43m\\\u001b[49m\n\u001b[1;32m      4\u001b[0m \u001b[43m                                 \u001b[49m\u001b[43mtoken_file\u001b[49m\u001b[38;5;241;43m=\u001b[39;49m\u001b[38;5;124;43m'\u001b[39;49m\u001b[38;5;124;43m/Users/fowler/Dropbox/focus/gpas/api-calls/token.json\u001b[39;49m\u001b[38;5;124;43m'\u001b[39;49m\u001b[43m)\u001b[49m\n",
      "File \u001b[0;32m~/packages/gpas-uploader/gpas_uploader/Batch.py:328\u001b[0m, in \u001b[0;36m__init__\u001b[0;34m(self, upload_csv, token_file, environment, run_parallel, tags_file, output_json, reference_genome)\u001b[0m\n",
      "File \u001b[0;32m~/packages/gpas-uploader/gpas_uploader/Batch.py:492\u001b[0m, in \u001b[0;36mBatch._call_ords_userOrgDtls\u001b[0;34m(self)\u001b[0m\n\u001b[1;32m    490\u001b[0m \u001b[38;5;66;03m# if it fails raise an Exception, otherwise parse the returned content\u001b[39;00m\n\u001b[1;32m    491\u001b[0m \u001b[38;5;28;01mif\u001b[39;00m \u001b[38;5;129;01mnot\u001b[39;00m a\u001b[38;5;241m.\u001b[39mok:\n\u001b[0;32m--> 492\u001b[0m     \u001b[43ma\u001b[49m\u001b[38;5;241;43m.\u001b[39;49m\u001b[43mraise_for_status\u001b[49m\u001b[43m(\u001b[49m\u001b[43m)\u001b[49m\n\u001b[1;32m    493\u001b[0m \u001b[38;5;28;01melse\u001b[39;00m:\n\u001b[1;32m    494\u001b[0m     result \u001b[38;5;241m=\u001b[39m json\u001b[38;5;241m.\u001b[39mloads(a\u001b[38;5;241m.\u001b[39mcontent)\n",
      "File \u001b[0;32m/opt/local/Library/Frameworks/Python.framework/Versions/3.9/lib/python3.9/site-packages/requests/models.py:960\u001b[0m, in \u001b[0;36mResponse.raise_for_status\u001b[0;34m(self)\u001b[0m\n\u001b[1;32m    957\u001b[0m     http_error_msg \u001b[38;5;241m=\u001b[39m \u001b[38;5;124mu\u001b[39m\u001b[38;5;124m'\u001b[39m\u001b[38;5;132;01m%s\u001b[39;00m\u001b[38;5;124m Server Error: \u001b[39m\u001b[38;5;132;01m%s\u001b[39;00m\u001b[38;5;124m for url: \u001b[39m\u001b[38;5;132;01m%s\u001b[39;00m\u001b[38;5;124m'\u001b[39m \u001b[38;5;241m%\u001b[39m (\u001b[38;5;28mself\u001b[39m\u001b[38;5;241m.\u001b[39mstatus_code, reason, \u001b[38;5;28mself\u001b[39m\u001b[38;5;241m.\u001b[39murl)\n\u001b[1;32m    959\u001b[0m \u001b[38;5;28;01mif\u001b[39;00m http_error_msg:\n\u001b[0;32m--> 960\u001b[0m     \u001b[38;5;28;01mraise\u001b[39;00m HTTPError(http_error_msg, response\u001b[38;5;241m=\u001b[39m\u001b[38;5;28mself\u001b[39m)\n",
      "\u001b[0;31mHTTPError\u001b[0m: 401 Client Error: Unauthorized for url: https://portal.dev.gpas.ox.ac.uk/ords/gpasdevpdb1/grep/electron/userOrgDtls"
     ]
    }
   ],
   "source": [
    "upload_csv = gpas_uploader.Batch('/Users/fowler/packages/gpas-uploader/examples/nanopore-fastq-upload.csv',\\\n",
    "                                 run_parallel=True,\\\n",
    "                                 environment='development',\\\n",
    "                                 token_file='/Users/fowler/Dropbox/focus/gpas/api-calls/token.json')"
   ]
  },
  {
   "cell_type": "code",
   "execution_count": 205,
   "id": "aaa3401b-b8a3-45ab-90ca-9726e0ac64be",
   "metadata": {},
   "outputs": [],
   "source": [
    "upload_csv.validate()"
   ]
  },
  {
   "cell_type": "code",
   "execution_count": 252,
   "id": "b12feae5-2559-454c-83c4-da4a26201f4c",
   "metadata": {},
   "outputs": [
    {
     "name": "stdout",
     "output_type": "stream",
     "text": [
      "Nanopore 2022-03-22T14:21:54.929Z+00:00 PHILIP.FOWLER@NDM.OX.AC.UK University of Oxford\n"
     ]
    }
   ],
   "source": [
    "if upload_csv.valid:\n",
    "    print(upload_csv.sequencing_platform, upload_csv.uploaded_on, upload_csv.user_name, upload_csv.user_organisation)\n",
    "else:\n",
    "    upload_csv.validation_errors"
   ]
  },
  {
   "cell_type": "code",
   "execution_count": 208,
   "id": "776f55a9-b69e-491f-b5dc-fffa30283298",
   "metadata": {},
   "outputs": [],
   "source": [
    "upload_csv.decontaminate()"
   ]
  },
  {
   "cell_type": "code",
   "execution_count": 253,
   "id": "ce1dfc28-d029-4e50-a345-31cd87fdc1c8",
   "metadata": {},
   "outputs": [],
   "source": [
    "if not upload_csv.decontamination_successful:\n",
    "    print(upload_csv.decontamination_errors)"
   ]
  },
  {
   "cell_type": "code",
   "execution_count": 257,
   "id": "71b1e676-f5f1-483a-a067-2c43a4189160",
   "metadata": {},
   "outputs": [
    {
     "data": {
      "text/html": [
       "<div>\n",
       "<style scoped>\n",
       "    .dataframe tbody tr th:only-of-type {\n",
       "        vertical-align: middle;\n",
       "    }\n",
       "\n",
       "    .dataframe tbody tr th {\n",
       "        vertical-align: top;\n",
       "    }\n",
       "\n",
       "    .dataframe thead th {\n",
       "        text-align: right;\n",
       "    }\n",
       "</style>\n",
       "<table border=\"1\" class=\"dataframe\">\n",
       "  <thead>\n",
       "    <tr style=\"text-align: right;\">\n",
       "      <th></th>\n",
       "      <th>index</th>\n",
       "      <th>sample_name</th>\n",
       "      <th>batch</th>\n",
       "      <th>run_number</th>\n",
       "      <th>fastq</th>\n",
       "      <th>control</th>\n",
       "      <th>collection_date</th>\n",
       "      <th>tags</th>\n",
       "      <th>country</th>\n",
       "      <th>region</th>\n",
       "      <th>district</th>\n",
       "      <th>specimen_organism</th>\n",
       "      <th>host</th>\n",
       "      <th>instrument_platform</th>\n",
       "      <th>primer_scheme</th>\n",
       "      <th>tags_ok</th>\n",
       "      <th>r_uri</th>\n",
       "      <th>r_md5</th>\n",
       "      <th>r_sha</th>\n",
       "      <th>gpas_batch</th>\n",
       "      <th>gpas_run_number</th>\n",
       "      <th>uploaded</th>\n",
       "    </tr>\n",
       "    <tr>\n",
       "      <th>gpas_sample_name</th>\n",
       "      <th></th>\n",
       "      <th></th>\n",
       "      <th></th>\n",
       "      <th></th>\n",
       "      <th></th>\n",
       "      <th></th>\n",
       "      <th></th>\n",
       "      <th></th>\n",
       "      <th></th>\n",
       "      <th></th>\n",
       "      <th></th>\n",
       "      <th></th>\n",
       "      <th></th>\n",
       "      <th></th>\n",
       "      <th></th>\n",
       "      <th></th>\n",
       "      <th></th>\n",
       "      <th></th>\n",
       "      <th></th>\n",
       "      <th></th>\n",
       "      <th></th>\n",
       "      <th></th>\n",
       "    </tr>\n",
       "  </thead>\n",
       "  <tbody>\n",
       "    <tr>\n",
       "      <th>daca47b0-10d8-e8ae-e053-1f01000a8327</th>\n",
       "      <td>0</td>\n",
       "      <td>unpaired1</td>\n",
       "      <td>run1</td>\n",
       "      <td>run1.1</td>\n",
       "      <td>unpaired1.fastq.gz</td>\n",
       "      <td>negative</td>\n",
       "      <td>2022-02-01</td>\n",
       "      <td>test</td>\n",
       "      <td>USA</td>\n",
       "      <td>Texas</td>\n",
       "      <td>1124</td>\n",
       "      <td>SARS-CoV-2</td>\n",
       "      <td>human</td>\n",
       "      <td>Nanopore</td>\n",
       "      <td>auto</td>\n",
       "      <td>True</td>\n",
       "      <td>/tmp/daca47b0-10d8-e8ae-e053-1f01000a8327.read...</td>\n",
       "      <td>467c645b8285270f9ddcee4b0fa2f7ae</td>\n",
       "      <td>a2dd4d2459b1356db1d89219cb405a9ed80694974d19c8...</td>\n",
       "      <td>f-fa16ef7c</td>\n",
       "      <td>1</td>\n",
       "      <td>True</td>\n",
       "    </tr>\n",
       "  </tbody>\n",
       "</table>\n",
       "</div>"
      ],
      "text/plain": [
       "                                      index sample_name batch run_number  \\\n",
       "gpas_sample_name                                                           \n",
       "daca47b0-10d8-e8ae-e053-1f01000a8327      0   unpaired1  run1     run1.1   \n",
       "\n",
       "                                                   fastq   control  \\\n",
       "gpas_sample_name                                                     \n",
       "daca47b0-10d8-e8ae-e053-1f01000a8327  unpaired1.fastq.gz  negative   \n",
       "\n",
       "                                     collection_date  tags country region  \\\n",
       "gpas_sample_name                                                            \n",
       "daca47b0-10d8-e8ae-e053-1f01000a8327      2022-02-01  test     USA  Texas   \n",
       "\n",
       "                                     district specimen_organism   host  \\\n",
       "gpas_sample_name                                                         \n",
       "daca47b0-10d8-e8ae-e053-1f01000a8327     1124        SARS-CoV-2  human   \n",
       "\n",
       "                                     instrument_platform primer_scheme  \\\n",
       "gpas_sample_name                                                         \n",
       "daca47b0-10d8-e8ae-e053-1f01000a8327            Nanopore          auto   \n",
       "\n",
       "                                      tags_ok  \\\n",
       "gpas_sample_name                                \n",
       "daca47b0-10d8-e8ae-e053-1f01000a8327     True   \n",
       "\n",
       "                                                                                  r_uri  \\\n",
       "gpas_sample_name                                                                          \n",
       "daca47b0-10d8-e8ae-e053-1f01000a8327  /tmp/daca47b0-10d8-e8ae-e053-1f01000a8327.read...   \n",
       "\n",
       "                                                                 r_md5  \\\n",
       "gpas_sample_name                                                         \n",
       "daca47b0-10d8-e8ae-e053-1f01000a8327  467c645b8285270f9ddcee4b0fa2f7ae   \n",
       "\n",
       "                                                                                  r_sha  \\\n",
       "gpas_sample_name                                                                          \n",
       "daca47b0-10d8-e8ae-e053-1f01000a8327  a2dd4d2459b1356db1d89219cb405a9ed80694974d19c8...   \n",
       "\n",
       "                                      gpas_batch  gpas_run_number  uploaded  \n",
       "gpas_sample_name                                                             \n",
       "daca47b0-10d8-e8ae-e053-1f01000a8327  f-fa16ef7c                1      True  "
      ]
     },
     "execution_count": 257,
     "metadata": {},
     "output_type": "execute_result"
    }
   ],
   "source": [
    "upload_csv.df"
   ]
  },
  {
   "cell_type": "code",
   "execution_count": 259,
   "id": "37db82dc-3aca-48b5-8b52-0b2a5ba97d00",
   "metadata": {},
   "outputs": [
    {
     "data": {
      "text/plain": [
       "{'status': 'completed',\n",
       " 'batch': {'file_name': 'f-fa16ef7c',\n",
       "  'uploaded_on': '2022-03-22T14:21:54.929Z+00:00',\n",
       "  'run_numbers': [1],\n",
       "  'samples': [{'sample': 'daca47b0-10d8-e8ae-e053-1f01000a8327',\n",
       "    'run_number': 1,\n",
       "    'tags': ['test'],\n",
       "    'control': 'negative',\n",
       "    'collection_date': '2022-02-01',\n",
       "    'country': 'USA',\n",
       "    'region': 'Texas',\n",
       "    'district': '1124',\n",
       "    'specimen': 'SARS-CoV-2',\n",
       "    'host': 'human',\n",
       "    'instrument': {'platform': 'Nanopore'},\n",
       "    'primer_scheme': 'auto',\n",
       "    'se_reads': {'uri': '/tmp/daca47b0-10d8-e8ae-e053-1f01000a8327.reads.fastq.gz',\n",
       "     'md5': '467c645b8285270f9ddcee4b0fa2f7ae'}}],\n",
       "  'bucketName': 'TLFgFoKopAxVfeANCwdEcakPVdMJfGqg',\n",
       "  'uploadedBy': 'PHILIP.FOWLER@NDM.OX.AC.UK',\n",
       "  'organisation': 'University of Oxford'}}"
      ]
     },
     "execution_count": 259,
     "metadata": {},
     "output_type": "execute_result"
    }
   ],
   "source": [
    "upload_csv.apex_json['submission']"
   ]
  },
  {
   "cell_type": "code",
   "execution_count": 212,
   "id": "a0652b70-bacc-4904-9299-5a2f732eba4b",
   "metadata": {},
   "outputs": [
    {
     "name": "stdout",
     "output_type": "stream",
     "text": [
      "TLFgFoKopAxVfeANCwdEcakPVdMJfGqg\n",
      "1\n",
      "0\n",
      "{\"submission\": {\"status\": \"completed\", \"batch\": {\"file_name\": \"a-04959727\", \"uploaded_on\": \"2022-03-22T14:13:10.327Z+00:00\", \"run_numbers\": [1], \"samples\": [{\"sample\": \"daca47b0-10cd-e8ae-e053-1f01000a8327\", \"run_number\": 1, \"tags\": [\"test\"], \"control\": \"negative\", \"collection_date\": \"2022-02-01\", \"country\": \"USA\", \"region\": \"Texas\", \"district\": \"1124\", \"specimen\": \"SARS-CoV-2\", \"host\": \"human\", \"instrument\": {\"platform\": \"Nanopore\"}, \"primer_scheme\": \"auto\", \"se_reads\": {\"uri\": \"/tmp/daca47b0-10cd-e8ae-e053-1f01000a8327.reads.fastq.gz\", \"md5\": \"467c645b8285270f9ddcee4b0fa2f7ae\"}}], \"bucketName\": \"TLFgFoKopAxVfeANCwdEcakPVdMJfGqg\", \"uploadedBy\": \"PHILIP.FOWLER@NDM.OX.AC.UK\", \"organisation\": \"University of Oxford\"}}}\n"
     ]
    }
   ],
   "source": [
    "upload_csv.submit()"
   ]
  },
  {
   "cell_type": "code",
   "execution_count": 236,
   "id": "37d33d32-76d0-4951-a2ef-1f2a5af27f29",
   "metadata": {},
   "outputs": [
    {
     "data": {
      "text/plain": [
       "'https://portal.dev.gpas.ox.ac.uk/ords/gpasdevpdb1/grep/electron/batches'"
      ]
     },
     "execution_count": 236,
     "metadata": {},
     "output_type": "execute_result"
    }
   ],
   "source": [
    "url  = upload_csv.environment_urls[upload_csv.environment]['WORLD_URL'] + upload_csv.environment_urls[upload_csv.environment]['ORDS_PATH'] + '/batches'\n",
    "url"
   ]
  },
  {
   "cell_type": "code",
   "execution_count": 235,
   "id": "c99a3a77-6d17-4873-9e64-3e29290783c7",
   "metadata": {},
   "outputs": [],
   "source": [
    "url = 'https://portal.dev.gpas.ox.ac.uk/ords/gpasdevpdb1/batches'"
   ]
  },
  {
   "cell_type": "code",
   "execution_count": 241,
   "id": "b4c7b902-816c-418a-bd24-76aa26a92ac7",
   "metadata": {},
   "outputs": [],
   "source": [
    "a = requests.post(url=url, json=upload_csv.apex_json, headers=upload_csv.headers)"
   ]
  },
  {
   "cell_type": "code",
   "execution_count": 242,
   "id": "0b45a59e-170b-4f40-9b29-82d250c0a9fa",
   "metadata": {},
   "outputs": [
    {
     "data": {
      "text/plain": [
       "200"
      ]
     },
     "execution_count": 242,
     "metadata": {},
     "output_type": "execute_result"
    }
   ],
   "source": [
    "a.status_code"
   ]
  },
  {
   "cell_type": "code",
   "execution_count": null,
   "id": "bdb46f3f-9053-4ce1-9d31-41c3d6e040a2",
   "metadata": {},
   "outputs": [],
   "source": []
  }
 ],
 "metadata": {
  "kernelspec": {
   "display_name": "Python 3 (ipykernel)",
   "language": "python",
   "name": "python3"
  },
  "language_info": {
   "codemirror_mode": {
    "name": "ipython",
    "version": 3
   },
   "file_extension": ".py",
   "mimetype": "text/x-python",
   "name": "python",
   "nbconvert_exporter": "python",
   "pygments_lexer": "ipython3",
   "version": "3.9.10"
  }
 },
 "nbformat": 4,
 "nbformat_minor": 5
}
