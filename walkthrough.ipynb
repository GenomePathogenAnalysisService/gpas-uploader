{
 "cells": [
  {
   "cell_type": "code",
   "execution_count": 1,
   "id": "8a1f02b1-ff48-448c-8bd6-080da0a24205",
   "metadata": {},
   "outputs": [],
   "source": [
    "import pandas\n",
    "\n",
    "pandas.options.display.max_columns=999\n",
    "\n",
    "import gpas_uploader\n",
    "\n",
    "%load_ext autoreload\n",
    "%autoreload 2"
   ]
  },
  {
   "cell_type": "code",
   "execution_count": 36,
   "id": "c1e08e47-2f08-40b2-b05f-fb025541efcc",
   "metadata": {},
   "outputs": [],
   "source": [
    "upload_csv = gpas_uploader.Batch('/Users/fowler/packages/gpas-uploader/examples/illumina-fastq-upload.csv',\\\n",
    "                                 run_parallel=True,\\\n",
    "                                 environment='development',\\\n",
    "                                 token_file='/Users/fowler/Dropbox/focus/gpas/api-calls/token.json')"
   ]
  },
  {
   "cell_type": "code",
   "execution_count": 37,
   "id": "aaa3401b-b8a3-45ab-90ca-9726e0ac64be",
   "metadata": {},
   "outputs": [],
   "source": [
    "upload_csv.validate()"
   ]
  },
  {
   "cell_type": "code",
   "execution_count": 39,
   "id": "2500a6af-6cb0-4719-846d-44922ba97689",
   "metadata": {},
   "outputs": [
    {
     "data": {
      "text/html": [
       "<div>\n",
       "<style scoped>\n",
       "    .dataframe tbody tr th:only-of-type {\n",
       "        vertical-align: middle;\n",
       "    }\n",
       "\n",
       "    .dataframe tbody tr th {\n",
       "        vertical-align: top;\n",
       "    }\n",
       "\n",
       "    .dataframe thead th {\n",
       "        text-align: right;\n",
       "    }\n",
       "</style>\n",
       "<table border=\"1\" class=\"dataframe\">\n",
       "  <thead>\n",
       "    <tr style=\"text-align: right;\">\n",
       "      <th></th>\n",
       "      <th>error_message</th>\n",
       "    </tr>\n",
       "    <tr>\n",
       "      <th>gpas_sample_name</th>\n",
       "      <th></th>\n",
       "    </tr>\n",
       "  </thead>\n",
       "  <tbody>\n",
       "    <tr>\n",
       "      <th>6b9c2541-e807-438b-8ae1-b9e38b82ad58</th>\n",
       "      <td>tags do not validate</td>\n",
       "    </tr>\n",
       "    <tr>\n",
       "      <th>ea6694ea-c382-47f5-981d-a648369e78b8</th>\n",
       "      <td>tags do not validate</td>\n",
       "    </tr>\n",
       "    <tr>\n",
       "      <th>748ce0ba-a37a-478d-9810-02d5bc71ab35</th>\n",
       "      <td>tags do not validate</td>\n",
       "    </tr>\n",
       "  </tbody>\n",
       "</table>\n",
       "</div>"
      ],
      "text/plain": [
       "                                             error_message\n",
       "gpas_sample_name                                          \n",
       "6b9c2541-e807-438b-8ae1-b9e38b82ad58  tags do not validate\n",
       "ea6694ea-c382-47f5-981d-a648369e78b8  tags do not validate\n",
       "748ce0ba-a37a-478d-9810-02d5bc71ab35  tags do not validate"
      ]
     },
     "execution_count": 39,
     "metadata": {},
     "output_type": "execute_result"
    }
   ],
   "source": [
    "upload_csv.validation_errors"
   ]
  },
  {
   "cell_type": "code",
   "execution_count": 13,
   "id": "fb47b15a-542d-4102-b4c1-db1805383472",
   "metadata": {},
   "outputs": [
    {
     "data": {
      "text/plain": [
       "'development'"
      ]
     },
     "execution_count": 13,
     "metadata": {},
     "output_type": "execute_result"
    }
   ],
   "source": [
    "upload_csv.environment"
   ]
  },
  {
   "cell_type": "code",
   "execution_count": 14,
   "id": "5f4a5064-5faa-4297-a1d3-d9970210e1cc",
   "metadata": {},
   "outputs": [
    {
     "data": {
      "text/plain": [
       "('PHILIP.FOWLER@NDM.OX.AC.UK', 'University of Oxford')"
      ]
     },
     "execution_count": 14,
     "metadata": {},
     "output_type": "execute_result"
    }
   ],
   "source": [
    "upload_csv.user_name, upload_csv.user_organisation"
   ]
  },
  {
   "cell_type": "code",
   "execution_count": 17,
   "id": "776f55a9-b69e-491f-b5dc-fffa30283298",
   "metadata": {},
   "outputs": [],
   "source": [
    "upload_csv.decontaminate()"
   ]
  },
  {
   "cell_type": "code",
   "execution_count": 15,
   "id": "d395e3cd-b257-43dd-bbba-a33ef9257181",
   "metadata": {},
   "outputs": [
    {
     "data": {
      "text/plain": [
       "['University_of_Oxford',\n",
       " 'HPRU',\n",
       " 'GPAS_OxUni',\n",
       " 'Good_quality',\n",
       " 'Poor_quality',\n",
       " 'Positive_control',\n",
       " 'Batch_failed_neg_ctrl',\n",
       " 'BRC_Covid',\n",
       " 'Negative_control',\n",
       " 'Batch_passed_neg_ctrl',\n",
       " 'grant_this_to_Oxford',\n",
       " 'Covid_consortium',\n",
       " 'test',\n",
       " 'covid_network_lab',\n",
       " 'ENA_Data']"
      ]
     },
     "execution_count": 15,
     "metadata": {},
     "output_type": "execute_result"
    }
   ],
   "source": [
    "upload_csv.permitted_tags"
   ]
  },
  {
   "cell_type": "code",
   "execution_count": 18,
   "id": "a0652b70-bacc-4904-9299-5a2f732eba4b",
   "metadata": {},
   "outputs": [
    {
     "name": "stdout",
     "output_type": "stream",
     "text": [
      "https://objectstorage.uk-london-1.oraclecloud.com/p/jtY9ANZip6QghhyiZt_9jpIEyn4Q6DpSu_xhrPJ6CBlyoQ8bcGadnaMxh_hcqjHv/n/lrbvkel2wjot/b/TLFgFoKopAxVfeANCwdEcakPVdMJfGqg/o/\n"
     ]
    }
   ],
   "source": [
    "upload_csv.submit()"
   ]
  },
  {
   "cell_type": "code",
   "execution_count": 15,
   "id": "dfb634a2-3d56-4718-b877-d33b01aff12b",
   "metadata": {},
   "outputs": [
    {
     "data": {
      "text/html": [
       "<div>\n",
       "<style scoped>\n",
       "    .dataframe tbody tr th:only-of-type {\n",
       "        vertical-align: middle;\n",
       "    }\n",
       "\n",
       "    .dataframe tbody tr th {\n",
       "        vertical-align: top;\n",
       "    }\n",
       "\n",
       "    .dataframe thead th {\n",
       "        text-align: right;\n",
       "    }\n",
       "</style>\n",
       "<table border=\"1\" class=\"dataframe\">\n",
       "  <thead>\n",
       "    <tr style=\"text-align: right;\">\n",
       "      <th></th>\n",
       "      <th>batch</th>\n",
       "      <th>run_number</th>\n",
       "      <th>sample_name</th>\n",
       "      <th>fastq1</th>\n",
       "      <th>fastq2</th>\n",
       "      <th>control</th>\n",
       "      <th>collection_date</th>\n",
       "      <th>tags</th>\n",
       "      <th>country</th>\n",
       "      <th>region</th>\n",
       "      <th>district</th>\n",
       "      <th>specimen_organism</th>\n",
       "      <th>host</th>\n",
       "      <th>instrument_platform</th>\n",
       "      <th>primer_scheme</th>\n",
       "      <th>gpas_batch</th>\n",
       "      <th>gpas_run_number</th>\n",
       "    </tr>\n",
       "    <tr>\n",
       "      <th>gpas_sample_name</th>\n",
       "      <th></th>\n",
       "      <th></th>\n",
       "      <th></th>\n",
       "      <th></th>\n",
       "      <th></th>\n",
       "      <th></th>\n",
       "      <th></th>\n",
       "      <th></th>\n",
       "      <th></th>\n",
       "      <th></th>\n",
       "      <th></th>\n",
       "      <th></th>\n",
       "      <th></th>\n",
       "      <th></th>\n",
       "      <th></th>\n",
       "      <th></th>\n",
       "      <th></th>\n",
       "    </tr>\n",
       "  </thead>\n",
       "  <tbody>\n",
       "    <tr>\n",
       "      <th>f0c0ae3d-8d20-4e8c-8527-2bb4a0b30244</th>\n",
       "      <td>run1</td>\n",
       "      <td>run1.1</td>\n",
       "      <td>sample1</td>\n",
       "      <td>sample1_1.fastq.gz</td>\n",
       "      <td>sample1_2.fastq.gz</td>\n",
       "      <td>negative</td>\n",
       "      <td>2022-02-01</td>\n",
       "      <td>site0:repeat</td>\n",
       "      <td>USA</td>\n",
       "      <td>Texas</td>\n",
       "      <td>1124</td>\n",
       "      <td>SARS-CoV-2</td>\n",
       "      <td>human</td>\n",
       "      <td>Illumina</td>\n",
       "      <td>auto</td>\n",
       "      <td>B-8R39222</td>\n",
       "      <td>0</td>\n",
       "    </tr>\n",
       "    <tr>\n",
       "      <th>40d28597-164a-488f-bf28-537e57c92c0f</th>\n",
       "      <td>run1</td>\n",
       "      <td>run1.2</td>\n",
       "      <td>sample2</td>\n",
       "      <td>sample2_1.fastq.gz</td>\n",
       "      <td>sample2_2.fastq.gz</td>\n",
       "      <td>NaN</td>\n",
       "      <td>2022-03-01</td>\n",
       "      <td>site0</td>\n",
       "      <td>FRA</td>\n",
       "      <td>Finistère</td>\n",
       "      <td>NaN</td>\n",
       "      <td>SARS-CoV-2</td>\n",
       "      <td>human</td>\n",
       "      <td>Illumina</td>\n",
       "      <td>auto</td>\n",
       "      <td>B-8R39222</td>\n",
       "      <td>1</td>\n",
       "    </tr>\n",
       "    <tr>\n",
       "      <th>76c5791d-31f8-4c9d-84ed-735ab1f30008</th>\n",
       "      <td>run1</td>\n",
       "      <td>run1.2</td>\n",
       "      <td>sample3</td>\n",
       "      <td>sample3_1.fastq.gz</td>\n",
       "      <td>sample3_2.fastq.gz</td>\n",
       "      <td>positive</td>\n",
       "      <td>2022-03-08</td>\n",
       "      <td>site0</td>\n",
       "      <td>GBR</td>\n",
       "      <td>Oxfordshire</td>\n",
       "      <td>NaN</td>\n",
       "      <td>SARS-CoV-2</td>\n",
       "      <td>human</td>\n",
       "      <td>Illumina</td>\n",
       "      <td>auto</td>\n",
       "      <td>B-8R39222</td>\n",
       "      <td>1</td>\n",
       "    </tr>\n",
       "  </tbody>\n",
       "</table>\n",
       "</div>"
      ],
      "text/plain": [
       "                                     batch run_number sample_name  \\\n",
       "gpas_sample_name                                                    \n",
       "f0c0ae3d-8d20-4e8c-8527-2bb4a0b30244  run1     run1.1     sample1   \n",
       "40d28597-164a-488f-bf28-537e57c92c0f  run1     run1.2     sample2   \n",
       "76c5791d-31f8-4c9d-84ed-735ab1f30008  run1     run1.2     sample3   \n",
       "\n",
       "                                                  fastq1              fastq2  \\\n",
       "gpas_sample_name                                                               \n",
       "f0c0ae3d-8d20-4e8c-8527-2bb4a0b30244  sample1_1.fastq.gz  sample1_2.fastq.gz   \n",
       "40d28597-164a-488f-bf28-537e57c92c0f  sample2_1.fastq.gz  sample2_2.fastq.gz   \n",
       "76c5791d-31f8-4c9d-84ed-735ab1f30008  sample3_1.fastq.gz  sample3_2.fastq.gz   \n",
       "\n",
       "                                       control collection_date          tags  \\\n",
       "gpas_sample_name                                                               \n",
       "f0c0ae3d-8d20-4e8c-8527-2bb4a0b30244  negative      2022-02-01  site0:repeat   \n",
       "40d28597-164a-488f-bf28-537e57c92c0f       NaN      2022-03-01         site0   \n",
       "76c5791d-31f8-4c9d-84ed-735ab1f30008  positive      2022-03-08         site0   \n",
       "\n",
       "                                     country       region district  \\\n",
       "gpas_sample_name                                                     \n",
       "f0c0ae3d-8d20-4e8c-8527-2bb4a0b30244     USA        Texas     1124   \n",
       "40d28597-164a-488f-bf28-537e57c92c0f     FRA    Finistère      NaN   \n",
       "76c5791d-31f8-4c9d-84ed-735ab1f30008     GBR  Oxfordshire      NaN   \n",
       "\n",
       "                                     specimen_organism   host  \\\n",
       "gpas_sample_name                                                \n",
       "f0c0ae3d-8d20-4e8c-8527-2bb4a0b30244        SARS-CoV-2  human   \n",
       "40d28597-164a-488f-bf28-537e57c92c0f        SARS-CoV-2  human   \n",
       "76c5791d-31f8-4c9d-84ed-735ab1f30008        SARS-CoV-2  human   \n",
       "\n",
       "                                     instrument_platform primer_scheme  \\\n",
       "gpas_sample_name                                                         \n",
       "f0c0ae3d-8d20-4e8c-8527-2bb4a0b30244            Illumina          auto   \n",
       "40d28597-164a-488f-bf28-537e57c92c0f            Illumina          auto   \n",
       "76c5791d-31f8-4c9d-84ed-735ab1f30008            Illumina          auto   \n",
       "\n",
       "                                     gpas_batch  gpas_run_number  \n",
       "gpas_sample_name                                                  \n",
       "f0c0ae3d-8d20-4e8c-8527-2bb4a0b30244  B-8R39222                0  \n",
       "40d28597-164a-488f-bf28-537e57c92c0f  B-8R39222                1  \n",
       "76c5791d-31f8-4c9d-84ed-735ab1f30008  B-8R39222                1  "
      ]
     },
     "execution_count": 15,
     "metadata": {},
     "output_type": "execute_result"
    }
   ],
   "source": [
    "upload_csv.df"
   ]
  },
  {
   "cell_type": "code",
   "execution_count": null,
   "id": "9a737426-e19b-435d-ad8e-32ff8a9ca5ec",
   "metadata": {},
   "outputs": [],
   "source": [
    "upload_csv.valid"
   ]
  },
  {
   "cell_type": "code",
   "execution_count": null,
   "id": "261ce0c7-cc9c-40f1-849a-d06df4ae4ae2",
   "metadata": {},
   "outputs": [],
   "source": [
    "upload_csv.validation_errors"
   ]
  },
  {
   "cell_type": "code",
   "execution_count": null,
   "id": "a9cb2899-60d8-4675-bb4f-dc127a79f027",
   "metadata": {},
   "outputs": [],
   "source": [
    "upload_csv.validation_json"
   ]
  },
  {
   "cell_type": "code",
   "execution_count": null,
   "id": "d1099e82-19be-456d-8619-74b93ca86109",
   "metadata": {},
   "outputs": [],
   "source": [
    "upload_csv.decontaminate()"
   ]
  },
  {
   "cell_type": "code",
   "execution_count": null,
   "id": "619b47b3-7333-4115-9753-6c57156810d5",
   "metadata": {},
   "outputs": [],
   "source": [
    "upload_csv.df"
   ]
  },
  {
   "cell_type": "code",
   "execution_count": null,
   "id": "95b2d0ff-94be-4711-a58c-0a07c7ee2664",
   "metadata": {},
   "outputs": [],
   "source": [
    "upload_csv.decontamination_json"
   ]
  },
  {
   "cell_type": "code",
   "execution_count": 23,
   "id": "a3f62a82-909b-4477-b5e2-63f6bcb7f578",
   "metadata": {},
   "outputs": [
    {
     "name": "stdout",
     "output_type": "stream",
     "text": [
      "None\n"
     ]
    }
   ],
   "source": [
    "print(None and None)"
   ]
  },
  {
   "cell_type": "code",
   "execution_count": 25,
   "id": "dcb109a3-c955-4b3b-9ffa-81e4ac6269ad",
   "metadata": {},
   "outputs": [
    {
     "name": "stdout",
     "output_type": "stream",
     "text": [
      "b\n"
     ]
    }
   ],
   "source": [
    "print('a' and 'b')"
   ]
  },
  {
   "cell_type": "code",
   "execution_count": 33,
   "id": "e8e67430-9545-48f9-b9ec-6a2f7e00b99d",
   "metadata": {},
   "outputs": [
    {
     "name": "stdout",
     "output_type": "stream",
     "text": [
      "True\n"
     ]
    }
   ],
   "source": [
    "\n",
    "a = 'f'\n",
    "b = 'None'\n",
    "\n",
    "print(a is not None and b is not None)"
   ]
  },
  {
   "cell_type": "code",
   "execution_count": null,
   "id": "4a91b86e-3239-4181-8eaf-0d9d4f61ba9a",
   "metadata": {},
   "outputs": [],
   "source": []
  }
 ],
 "metadata": {
  "kernelspec": {
   "display_name": "Python 3 (ipykernel)",
   "language": "python",
   "name": "python3"
  },
  "language_info": {
   "codemirror_mode": {
    "name": "ipython",
    "version": 3
   },
   "file_extension": ".py",
   "mimetype": "text/x-python",
   "name": "python",
   "nbconvert_exporter": "python",
   "pygments_lexer": "ipython3",
   "version": "3.9.10"
  }
 },
 "nbformat": 4,
 "nbformat_minor": 5
}
