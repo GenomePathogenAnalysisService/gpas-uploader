{
 "cells": [
  {
   "cell_type": "code",
   "execution_count": 116,
   "id": "8a1f02b1-ff48-448c-8bd6-080da0a24205",
   "metadata": {},
   "outputs": [
    {
     "name": "stdout",
     "output_type": "stream",
     "text": [
      "The autoreload extension is already loaded. To reload it, use:\n",
      "  %reload_ext autoreload\n"
     ]
    }
   ],
   "source": [
    "import pandas, json, pathlib, requests\n",
    "\n",
    "pandas.options.display.max_columns=999\n",
    "\n",
    "import gpas_uploader\n",
    "\n",
    "%load_ext autoreload\n",
    "%autoreload 2"
   ]
  },
  {
   "cell_type": "code",
   "execution_count": 269,
   "id": "c1e08e47-2f08-40b2-b05f-fb025541efcc",
   "metadata": {},
   "outputs": [],
   "source": [
    "upload_csv = gpas_uploader.Batch('/Users/fowler/packages/gpas-uploader/examples/nanopore-fastq-upload.csv',\\\n",
    "                                 run_parallel=True,\\\n",
    "                                 environment='development',\\\n",
    "                                 token_file='/Users/fowler/Dropbox/focus/gpas/api-calls/token.json')"
   ]
  },
  {
   "cell_type": "code",
   "execution_count": 270,
   "id": "aaa3401b-b8a3-45ab-90ca-9726e0ac64be",
   "metadata": {},
   "outputs": [],
   "source": [
    "upload_csv.validate()"
   ]
  },
  {
   "cell_type": "code",
   "execution_count": 271,
   "id": "b12feae5-2559-454c-83c4-da4a26201f4c",
   "metadata": {},
   "outputs": [
    {
     "name": "stdout",
     "output_type": "stream",
     "text": [
      "Nanopore 2022-03-22T16:08:23.511Z+00:00 PHILIP.FOWLER@NDM.OX.AC.UK University of Oxford\n"
     ]
    }
   ],
   "source": [
    "if upload_csv.valid:\n",
    "    print(upload_csv.sequencing_platform, upload_csv.uploaded_on, upload_csv.user_name, upload_csv.user_organisation)\n",
    "else:\n",
    "    upload_csv.validation_errors"
   ]
  },
  {
   "cell_type": "code",
   "execution_count": 272,
   "id": "776f55a9-b69e-491f-b5dc-fffa30283298",
   "metadata": {},
   "outputs": [],
   "source": [
    "upload_csv.decontaminate()"
   ]
  },
  {
   "cell_type": "code",
   "execution_count": 273,
   "id": "ce1dfc28-d029-4e50-a345-31cd87fdc1c8",
   "metadata": {},
   "outputs": [],
   "source": [
    "if not upload_csv.decontamination_successful:\n",
    "    print(upload_csv.decontamination_errors)"
   ]
  },
  {
   "cell_type": "code",
   "execution_count": 274,
   "id": "71b1e676-f5f1-483a-a067-2c43a4189160",
   "metadata": {},
   "outputs": [
    {
     "data": {
      "text/html": [
       "<div>\n",
       "<style scoped>\n",
       "    .dataframe tbody tr th:only-of-type {\n",
       "        vertical-align: middle;\n",
       "    }\n",
       "\n",
       "    .dataframe tbody tr th {\n",
       "        vertical-align: top;\n",
       "    }\n",
       "\n",
       "    .dataframe thead th {\n",
       "        text-align: right;\n",
       "    }\n",
       "</style>\n",
       "<table border=\"1\" class=\"dataframe\">\n",
       "  <thead>\n",
       "    <tr style=\"text-align: right;\">\n",
       "      <th></th>\n",
       "      <th>index</th>\n",
       "      <th>sample_name</th>\n",
       "      <th>batch</th>\n",
       "      <th>run_number</th>\n",
       "      <th>fastq</th>\n",
       "      <th>control</th>\n",
       "      <th>collection_date</th>\n",
       "      <th>tags</th>\n",
       "      <th>country</th>\n",
       "      <th>region</th>\n",
       "      <th>district</th>\n",
       "      <th>specimen_organism</th>\n",
       "      <th>host</th>\n",
       "      <th>instrument_platform</th>\n",
       "      <th>primer_scheme</th>\n",
       "      <th>tags_ok</th>\n",
       "      <th>r_uri</th>\n",
       "      <th>r_md5</th>\n",
       "      <th>r_sha</th>\n",
       "      <th>gpas_batch</th>\n",
       "      <th>gpas_run_number</th>\n",
       "    </tr>\n",
       "    <tr>\n",
       "      <th>gpas_sample_name</th>\n",
       "      <th></th>\n",
       "      <th></th>\n",
       "      <th></th>\n",
       "      <th></th>\n",
       "      <th></th>\n",
       "      <th></th>\n",
       "      <th></th>\n",
       "      <th></th>\n",
       "      <th></th>\n",
       "      <th></th>\n",
       "      <th></th>\n",
       "      <th></th>\n",
       "      <th></th>\n",
       "      <th></th>\n",
       "      <th></th>\n",
       "      <th></th>\n",
       "      <th></th>\n",
       "      <th></th>\n",
       "      <th></th>\n",
       "      <th></th>\n",
       "      <th></th>\n",
       "    </tr>\n",
       "  </thead>\n",
       "  <tbody>\n",
       "    <tr>\n",
       "      <th>dad07177-ed51-91d5-e053-1f01000adcc7</th>\n",
       "      <td>0</td>\n",
       "      <td>unpaired1</td>\n",
       "      <td>run1</td>\n",
       "      <td>run1.1</td>\n",
       "      <td>unpaired1.fastq.gz</td>\n",
       "      <td>negative</td>\n",
       "      <td>2022-02-01</td>\n",
       "      <td>test</td>\n",
       "      <td>USA</td>\n",
       "      <td>Texas</td>\n",
       "      <td>1124</td>\n",
       "      <td>SARS-CoV-2</td>\n",
       "      <td>human</td>\n",
       "      <td>Nanopore</td>\n",
       "      <td>auto</td>\n",
       "      <td>True</td>\n",
       "      <td>/tmp/dad07177-ed51-91d5-e053-1f01000adcc7.read...</td>\n",
       "      <td>467c645b8285270f9ddcee4b0fa2f7ae</td>\n",
       "      <td>a2dd4d2459b1356db1d89219cb405a9ed80694974d19c8...</td>\n",
       "      <td>b-f34f6aa5</td>\n",
       "      <td>1</td>\n",
       "    </tr>\n",
       "  </tbody>\n",
       "</table>\n",
       "</div>"
      ],
      "text/plain": [
       "                                      index sample_name batch run_number  \\\n",
       "gpas_sample_name                                                           \n",
       "dad07177-ed51-91d5-e053-1f01000adcc7      0   unpaired1  run1     run1.1   \n",
       "\n",
       "                                                   fastq   control  \\\n",
       "gpas_sample_name                                                     \n",
       "dad07177-ed51-91d5-e053-1f01000adcc7  unpaired1.fastq.gz  negative   \n",
       "\n",
       "                                     collection_date  tags country region  \\\n",
       "gpas_sample_name                                                            \n",
       "dad07177-ed51-91d5-e053-1f01000adcc7      2022-02-01  test     USA  Texas   \n",
       "\n",
       "                                     district specimen_organism   host  \\\n",
       "gpas_sample_name                                                         \n",
       "dad07177-ed51-91d5-e053-1f01000adcc7     1124        SARS-CoV-2  human   \n",
       "\n",
       "                                     instrument_platform primer_scheme  \\\n",
       "gpas_sample_name                                                         \n",
       "dad07177-ed51-91d5-e053-1f01000adcc7            Nanopore          auto   \n",
       "\n",
       "                                      tags_ok  \\\n",
       "gpas_sample_name                                \n",
       "dad07177-ed51-91d5-e053-1f01000adcc7     True   \n",
       "\n",
       "                                                                                  r_uri  \\\n",
       "gpas_sample_name                                                                          \n",
       "dad07177-ed51-91d5-e053-1f01000adcc7  /tmp/dad07177-ed51-91d5-e053-1f01000adcc7.read...   \n",
       "\n",
       "                                                                 r_md5  \\\n",
       "gpas_sample_name                                                         \n",
       "dad07177-ed51-91d5-e053-1f01000adcc7  467c645b8285270f9ddcee4b0fa2f7ae   \n",
       "\n",
       "                                                                                  r_sha  \\\n",
       "gpas_sample_name                                                                          \n",
       "dad07177-ed51-91d5-e053-1f01000adcc7  a2dd4d2459b1356db1d89219cb405a9ed80694974d19c8...   \n",
       "\n",
       "                                      gpas_batch  gpas_run_number  \n",
       "gpas_sample_name                                                   \n",
       "dad07177-ed51-91d5-e053-1f01000adcc7  b-f34f6aa5                1  "
      ]
     },
     "execution_count": 274,
     "metadata": {},
     "output_type": "execute_result"
    }
   ],
   "source": [
    "upload_csv.df"
   ]
  },
  {
   "cell_type": "code",
   "execution_count": 277,
   "id": "a0652b70-bacc-4904-9299-5a2f732eba4b",
   "metadata": {},
   "outputs": [
    {
     "data": {
      "application/vnd.jupyter.widget-view+json": {
       "model_id": "23e94753a8864f6187666f81c0209258",
       "version_major": 2,
       "version_minor": 0
      },
      "text/plain": [
       "  0%|          | 0/1 [00:00<?, ?it/s]"
      ]
     },
     "metadata": {},
     "output_type": "display_data"
    }
   ],
   "source": [
    "upload_csv.submit()"
   ]
  },
  {
   "cell_type": "code",
   "execution_count": 278,
   "id": "e46af208-8cd4-48cb-a352-5840f30ba231",
   "metadata": {},
   "outputs": [
    {
     "data": {
      "text/plain": [
       "{'status': 'completed',\n",
       " 'batch': {'file_name': 'b-f34f6aa5',\n",
       "  'uploaded_on': '2022-03-22T16:08:23.511Z+00:00',\n",
       "  'run_numbers': [1],\n",
       "  'samples': [{'sample': 'dad07177-ed51-91d5-e053-1f01000adcc7',\n",
       "    'run_number': 1,\n",
       "    'tags': ['test'],\n",
       "    'control': 'negative',\n",
       "    'collection_date': '2022-02-01',\n",
       "    'country': 'USA',\n",
       "    'region': 'Texas',\n",
       "    'district': '1124',\n",
       "    'specimen': 'SARS-CoV-2',\n",
       "    'host': 'human',\n",
       "    'instrument': {'platform': 'Nanopore'},\n",
       "    'primer_scheme': 'auto',\n",
       "    'se_reads': {'uri': '/tmp/dad07177-ed51-91d5-e053-1f01000adcc7.reads.fastq.gz',\n",
       "     'md5': '467c645b8285270f9ddcee4b0fa2f7ae'}}],\n",
       "  'bucket_name': 'TLFgFoKopAxVfeANCwdEcakPVdMJfGqg',\n",
       "  'uploaded_by': 'PHILIP.FOWLER@NDM.OX.AC.UK',\n",
       "  'organisation': 'University of Oxford'}}"
      ]
     },
     "execution_count": 278,
     "metadata": {},
     "output_type": "execute_result"
    }
   ],
   "source": [
    "upload_csv.submit_json"
   ]
  }
 ],
 "metadata": {
  "kernelspec": {
   "display_name": "Python 3 (ipykernel)",
   "language": "python",
   "name": "python3"
  },
  "language_info": {
   "codemirror_mode": {
    "name": "ipython",
    "version": 3
   },
   "file_extension": ".py",
   "mimetype": "text/x-python",
   "name": "python",
   "nbconvert_exporter": "python",
   "pygments_lexer": "ipython3",
   "version": "3.9.10"
  }
 },
 "nbformat": 4,
 "nbformat_minor": 5
}
