{
 "cells": [
  {
   "cell_type": "code",
   "execution_count": 1,
   "id": "8a1f02b1-ff48-448c-8bd6-080da0a24205",
   "metadata": {},
   "outputs": [],
   "source": [
    "import pandas\n",
    "\n",
    "pandas.options.display.max_columns=999\n",
    "\n",
    "import gpas_uploader\n",
    "\n",
    "%load_ext autoreload\n",
    "%autoreload 2"
   ]
  },
  {
   "cell_type": "code",
   "execution_count": 43,
   "id": "c1e08e47-2f08-40b2-b05f-fb025541efcc",
   "metadata": {},
   "outputs": [],
   "source": [
    "upload_csv = gpas_uploader.Batch('/Users/fowler/packages/gpas-uploader/examples/illumina-fastq-upload.csv',\\\n",
    "                                 run_parallel=True,\\\n",
    "                                 environment='development',\\\n",
    "                                 token_file='/Users/fowler/Dropbox/focus/gpas/api-calls/token.json')"
   ]
  },
  {
   "cell_type": "code",
   "execution_count": 44,
   "id": "e413f0c9-c1c8-461a-a4d7-dd712a40c227",
   "metadata": {},
   "outputs": [
    {
     "data": {
      "text/plain": [
       "'2022-03-18T11:56:02.013Z+00:00'"
      ]
     },
     "execution_count": 44,
     "metadata": {},
     "output_type": "execute_result"
    }
   ],
   "source": [
    "upload_csv.uploaded_on"
   ]
  },
  {
   "cell_type": "code",
   "execution_count": 45,
   "id": "aaa3401b-b8a3-45ab-90ca-9726e0ac64be",
   "metadata": {},
   "outputs": [],
   "source": [
    "upload_csv.validate()"
   ]
  },
  {
   "cell_type": "code",
   "execution_count": 46,
   "id": "2500a6af-6cb0-4719-846d-44922ba97689",
   "metadata": {},
   "outputs": [
    {
     "data": {
      "text/html": [
       "<div>\n",
       "<style scoped>\n",
       "    .dataframe tbody tr th:only-of-type {\n",
       "        vertical-align: middle;\n",
       "    }\n",
       "\n",
       "    .dataframe tbody tr th {\n",
       "        vertical-align: top;\n",
       "    }\n",
       "\n",
       "    .dataframe thead th {\n",
       "        text-align: right;\n",
       "    }\n",
       "</style>\n",
       "<table border=\"1\" class=\"dataframe\">\n",
       "  <thead>\n",
       "    <tr style=\"text-align: right;\">\n",
       "      <th></th>\n",
       "      <th>error_message</th>\n",
       "    </tr>\n",
       "    <tr>\n",
       "      <th>sample_name</th>\n",
       "      <th></th>\n",
       "    </tr>\n",
       "  </thead>\n",
       "  <tbody>\n",
       "  </tbody>\n",
       "</table>\n",
       "</div>"
      ],
      "text/plain": [
       "Empty DataFrame\n",
       "Columns: [error_message]\n",
       "Index: []"
      ]
     },
     "execution_count": 46,
     "metadata": {},
     "output_type": "execute_result"
    }
   ],
   "source": [
    "upload_csv.validation_errors"
   ]
  },
  {
   "cell_type": "code",
   "execution_count": 47,
   "id": "fb47b15a-542d-4102-b4c1-db1805383472",
   "metadata": {},
   "outputs": [
    {
     "data": {
      "text/plain": [
       "'development'"
      ]
     },
     "execution_count": 47,
     "metadata": {},
     "output_type": "execute_result"
    }
   ],
   "source": [
    "upload_csv.environment"
   ]
  },
  {
   "cell_type": "code",
   "execution_count": 48,
   "id": "5f4a5064-5faa-4297-a1d3-d9970210e1cc",
   "metadata": {},
   "outputs": [
    {
     "data": {
      "text/plain": [
       "('PHILIP.FOWLER@NDM.OX.AC.UK', 'University of Oxford')"
      ]
     },
     "execution_count": 48,
     "metadata": {},
     "output_type": "execute_result"
    }
   ],
   "source": [
    "upload_csv.user_name, upload_csv.user_organisation"
   ]
  },
  {
   "cell_type": "code",
   "execution_count": 49,
   "id": "776f55a9-b69e-491f-b5dc-fffa30283298",
   "metadata": {},
   "outputs": [
    {
     "name": "stdout",
     "output_type": "stream",
     "text": [
      "{'batch': {'organisation': 'University of Oxford', 'uploadedOn': '2022-03-18T11:56:02.013Z+00:00', 'uploadedBy': 'PHILIP.FOWLER@NDM.OX.AC.UK', 'samples': ['70d2e71ef2a5bfdfb5e1e8615a36fedd', '70d2e71ef2a5bfdfb5e1e8615a36fedd', '70d2e71ef2a5bfdfb5e1e8615a36fedd']}}\n",
      "{'batch': {'guid': 'd-200e966d', 'samples': [{'guid': 'da7bad6a-779f-d2cf-e053-1f01000a3086', 'hash': '70d2e71ef2a5bfdfb5e1e8615a36fedd', 'duplicateHash': 'N'}, {'guid': 'da7bad6a-77a1-d2cf-e053-1f01000a3086', 'hash': '70d2e71ef2a5bfdfb5e1e8615a36fedd', 'duplicateHash': 'Y'}, {'guid': 'da7bad6a-77a3-d2cf-e053-1f01000a3086', 'hash': '70d2e71ef2a5bfdfb5e1e8615a36fedd', 'duplicateHash': 'Y'}]}}\n",
      "             index batch run_number              fastq1              fastq2  \\\n",
      "sample_name                                                                   \n",
      "sample1          0  run1     run1.1  sample1_1.fastq.gz  sample1_2.fastq.gz   \n",
      "sample2          1  run1     run1.2  sample2_1.fastq.gz  sample2_2.fastq.gz   \n",
      "sample3          2  run1     run1.2  sample3_1.fastq.gz  sample3_2.fastq.gz   \n",
      "\n",
      "              control collection_date           tags country       region  \\\n",
      "sample_name                                                                 \n",
      "sample1      negative      2022-02-01  ENA_Data:HPRU     USA        Texas   \n",
      "sample2           NaN      2022-03-01           HPRU     FRA    Finistère   \n",
      "sample3      positive      2022-03-08       ENA_Data     GBR  Oxfordshire   \n",
      "\n",
      "            district specimen_organism   host instrument_platform  \\\n",
      "sample_name                                                         \n",
      "sample1         1124        SARS-CoV-2  human            Illumina   \n",
      "sample2          NaN        SARS-CoV-2  human            Illumina   \n",
      "sample3          NaN        SARS-CoV-2  human            Illumina   \n",
      "\n",
      "            primer_scheme  tags_ok                         r1_uri  \\\n",
      "sample_name                                                         \n",
      "sample1              auto     True  /tmp/sample1.reads_1.fastq.gz   \n",
      "sample2              auto     True  /tmp/sample2.reads_1.fastq.gz   \n",
      "sample3              auto     True  /tmp/sample3.reads_1.fastq.gz   \n",
      "\n",
      "                                    r2_uri                            r1_md5  \\\n",
      "sample_name                                                                    \n",
      "sample1      /tmp/sample1.reads_2.fastq.gz  70d2e71ef2a5bfdfb5e1e8615a36fedd   \n",
      "sample2      /tmp/sample2.reads_2.fastq.gz  70d2e71ef2a5bfdfb5e1e8615a36fedd   \n",
      "sample3      /tmp/sample3.reads_2.fastq.gz  70d2e71ef2a5bfdfb5e1e8615a36fedd   \n",
      "\n",
      "                                                        r1_sha  \\\n",
      "sample_name                                                      \n",
      "sample1      d2953dc9c2acc74d1b5ae74ca11661c490eeb7aa16d7c6...   \n",
      "sample2      d2953dc9c2acc74d1b5ae74ca11661c490eeb7aa16d7c6...   \n",
      "sample3      d2953dc9c2acc74d1b5ae74ca11661c490eeb7aa16d7c6...   \n",
      "\n",
      "                                       r2_md5  \\\n",
      "sample_name                                     \n",
      "sample1      51eec565569360fbe875bfd7b5ee8e68   \n",
      "sample2      51eec565569360fbe875bfd7b5ee8e68   \n",
      "sample3      51eec565569360fbe875bfd7b5ee8e68   \n",
      "\n",
      "                                                        r2_sha  \n",
      "sample_name                                                     \n",
      "sample1      a899b361b6790ba1df6e9ac048e5e20817cfb10a63a401...  \n",
      "sample2      a899b361b6790ba1df6e9ac048e5e20817cfb10a63a401...  \n",
      "sample3      a899b361b6790ba1df6e9ac048e5e20817cfb10a63a401...  \n"
     ]
    },
    {
     "ename": "KeyError",
     "evalue": "\"['gpas_batch', 'gpas_run_number', 'gpas_sample_name'] not in index\"",
     "output_type": "error",
     "traceback": [
      "\u001b[0;31m---------------------------------------------------------------------------\u001b[0m",
      "\u001b[0;31mKeyError\u001b[0m                                  Traceback (most recent call last)",
      "Input \u001b[0;32mIn [49]\u001b[0m, in \u001b[0;36m<module>\u001b[0;34m\u001b[0m\n\u001b[0;32m----> 1\u001b[0m \u001b[43mupload_csv\u001b[49m\u001b[38;5;241;43m.\u001b[39;49m\u001b[43mdecontaminate\u001b[49m\u001b[43m(\u001b[49m\u001b[43m)\u001b[49m\n",
      "File \u001b[0;32m~/packages/gpas-uploader/gpas_uploader/Batch.py:617\u001b[0m, in \u001b[0;36mBatch.decontaminate\u001b[0;34m(self, run_parallel, outdir)\u001b[0m\n",
      "File \u001b[0;32m~/packages/gpas-uploader/gpas_uploader/Batch.py:629\u001b[0m, in \u001b[0;36mBatch._build_submission\u001b[0;34m(self)\u001b[0m\n\u001b[1;32m    620\u001b[0m \u001b[38;5;124;03m\"\"\"Prepare the JSON payload for the GPAS Upload app\u001b[39;00m\n\u001b[1;32m    621\u001b[0m \n\u001b[1;32m    622\u001b[0m \u001b[38;5;124;03mReturns\u001b[39;00m\n\u001b[1;32m    623\u001b[0m \u001b[38;5;124;03m-------\u001b[39;00m\n\u001b[1;32m    624\u001b[0m \u001b[38;5;124;03m    dict : JSON payload to pass to GPAS Electron upload app via STDOUT\u001b[39;00m\n\u001b[1;32m    625\u001b[0m \u001b[38;5;124;03m\"\"\"\u001b[39;00m\n\u001b[1;32m    627\u001b[0m \u001b[38;5;28mself\u001b[39m\u001b[38;5;241m.\u001b[39mdf\u001b[38;5;241m.\u001b[39mreset_index(inplace\u001b[38;5;241m=\u001b[39m\u001b[38;5;28;01mTrue\u001b[39;00m)\n\u001b[0;32m--> 629\u001b[0m \u001b[38;5;28mself\u001b[39m\u001b[38;5;241m.\u001b[39msample_sheet \u001b[38;5;241m=\u001b[39m copy\u001b[38;5;241m.\u001b[39mdeepcopy(\u001b[38;5;28;43mself\u001b[39;49m\u001b[38;5;241;43m.\u001b[39;49m\u001b[43mdf\u001b[49m\u001b[43m[\u001b[49m\u001b[43m[\u001b[49m\u001b[38;5;124;43m'\u001b[39;49m\u001b[38;5;124;43mbatch\u001b[39;49m\u001b[38;5;124;43m'\u001b[39;49m\u001b[43m,\u001b[49m\u001b[43m \u001b[49m\u001b[38;5;124;43m'\u001b[39;49m\u001b[38;5;124;43mrun_number\u001b[39;49m\u001b[38;5;124;43m'\u001b[39;49m\u001b[43m,\u001b[49m\u001b[43m \u001b[49m\u001b[38;5;124;43m'\u001b[39;49m\u001b[38;5;124;43msample_name\u001b[39;49m\u001b[38;5;124;43m'\u001b[39;49m\u001b[43m,\u001b[49m\u001b[43m \u001b[49m\u001b[38;5;124;43m'\u001b[39;49m\u001b[38;5;124;43mgpas_batch\u001b[39;49m\u001b[38;5;124;43m'\u001b[39;49m\u001b[43m,\u001b[49m\u001b[43m \u001b[49m\u001b[38;5;124;43m'\u001b[39;49m\u001b[38;5;124;43mgpas_run_number\u001b[39;49m\u001b[38;5;124;43m'\u001b[39;49m\u001b[43m,\u001b[49m\u001b[43m \u001b[49m\u001b[38;5;124;43m'\u001b[39;49m\u001b[38;5;124;43mgpas_sample_name\u001b[39;49m\u001b[38;5;124;43m'\u001b[39;49m\u001b[43m]\u001b[49m\u001b[43m]\u001b[49m)\n\u001b[1;32m    631\u001b[0m \u001b[38;5;28mself\u001b[39m\u001b[38;5;241m.\u001b[39msample_sheet\u001b[38;5;241m.\u001b[39mrename(columns\u001b[38;5;241m=\u001b[39m{\u001b[38;5;124m'\u001b[39m\u001b[38;5;124mbatch\u001b[39m\u001b[38;5;124m'\u001b[39m: \u001b[38;5;124m'\u001b[39m\u001b[38;5;124mlocal_batch\u001b[39m\u001b[38;5;124m'\u001b[39m, \u001b[38;5;124m'\u001b[39m\u001b[38;5;124mrun_number\u001b[39m\u001b[38;5;124m'\u001b[39m: \u001b[38;5;124m'\u001b[39m\u001b[38;5;124mlocal_run_number\u001b[39m\u001b[38;5;124m'\u001b[39m, \u001b[38;5;124m'\u001b[39m\u001b[38;5;124msample_name\u001b[39m\u001b[38;5;124m'\u001b[39m: \u001b[38;5;124m'\u001b[39m\u001b[38;5;124mlocal_sample_name\u001b[39m\u001b[38;5;124m'\u001b[39m}, inplace\u001b[38;5;241m=\u001b[39m\u001b[38;5;28;01mTrue\u001b[39;00m)\n\u001b[1;32m    633\u001b[0m \u001b[38;5;28mself\u001b[39m\u001b[38;5;241m.\u001b[39mdf\u001b[38;5;241m.\u001b[39mset_index(\u001b[38;5;124m'\u001b[39m\u001b[38;5;124mgpas_sample_name\u001b[39m\u001b[38;5;124m'\u001b[39m, inplace\u001b[38;5;241m=\u001b[39m\u001b[38;5;28;01mTrue\u001b[39;00m)\n",
      "File \u001b[0;32m~/Library/Python/3.9/lib/python/site-packages/pandas/core/frame.py:3511\u001b[0m, in \u001b[0;36mDataFrame.__getitem__\u001b[0;34m(self, key)\u001b[0m\n\u001b[1;32m   3509\u001b[0m     \u001b[38;5;28;01mif\u001b[39;00m is_iterator(key):\n\u001b[1;32m   3510\u001b[0m         key \u001b[38;5;241m=\u001b[39m \u001b[38;5;28mlist\u001b[39m(key)\n\u001b[0;32m-> 3511\u001b[0m     indexer \u001b[38;5;241m=\u001b[39m \u001b[38;5;28;43mself\u001b[39;49m\u001b[38;5;241;43m.\u001b[39;49m\u001b[43mcolumns\u001b[49m\u001b[38;5;241;43m.\u001b[39;49m\u001b[43m_get_indexer_strict\u001b[49m\u001b[43m(\u001b[49m\u001b[43mkey\u001b[49m\u001b[43m,\u001b[49m\u001b[43m \u001b[49m\u001b[38;5;124;43m\"\u001b[39;49m\u001b[38;5;124;43mcolumns\u001b[39;49m\u001b[38;5;124;43m\"\u001b[39;49m\u001b[43m)\u001b[49m[\u001b[38;5;241m1\u001b[39m]\n\u001b[1;32m   3513\u001b[0m \u001b[38;5;66;03m# take() does not accept boolean indexers\u001b[39;00m\n\u001b[1;32m   3514\u001b[0m \u001b[38;5;28;01mif\u001b[39;00m \u001b[38;5;28mgetattr\u001b[39m(indexer, \u001b[38;5;124m\"\u001b[39m\u001b[38;5;124mdtype\u001b[39m\u001b[38;5;124m\"\u001b[39m, \u001b[38;5;28;01mNone\u001b[39;00m) \u001b[38;5;241m==\u001b[39m \u001b[38;5;28mbool\u001b[39m:\n",
      "File \u001b[0;32m~/Library/Python/3.9/lib/python/site-packages/pandas/core/indexes/base.py:5782\u001b[0m, in \u001b[0;36mIndex._get_indexer_strict\u001b[0;34m(self, key, axis_name)\u001b[0m\n\u001b[1;32m   5779\u001b[0m \u001b[38;5;28;01melse\u001b[39;00m:\n\u001b[1;32m   5780\u001b[0m     keyarr, indexer, new_indexer \u001b[38;5;241m=\u001b[39m \u001b[38;5;28mself\u001b[39m\u001b[38;5;241m.\u001b[39m_reindex_non_unique(keyarr)\n\u001b[0;32m-> 5782\u001b[0m \u001b[38;5;28;43mself\u001b[39;49m\u001b[38;5;241;43m.\u001b[39;49m\u001b[43m_raise_if_missing\u001b[49m\u001b[43m(\u001b[49m\u001b[43mkeyarr\u001b[49m\u001b[43m,\u001b[49m\u001b[43m \u001b[49m\u001b[43mindexer\u001b[49m\u001b[43m,\u001b[49m\u001b[43m \u001b[49m\u001b[43maxis_name\u001b[49m\u001b[43m)\u001b[49m\n\u001b[1;32m   5784\u001b[0m keyarr \u001b[38;5;241m=\u001b[39m \u001b[38;5;28mself\u001b[39m\u001b[38;5;241m.\u001b[39mtake(indexer)\n\u001b[1;32m   5785\u001b[0m \u001b[38;5;28;01mif\u001b[39;00m \u001b[38;5;28misinstance\u001b[39m(key, Index):\n\u001b[1;32m   5786\u001b[0m     \u001b[38;5;66;03m# GH 42790 - Preserve name from an Index\u001b[39;00m\n",
      "File \u001b[0;32m~/Library/Python/3.9/lib/python/site-packages/pandas/core/indexes/base.py:5845\u001b[0m, in \u001b[0;36mIndex._raise_if_missing\u001b[0;34m(self, key, indexer, axis_name)\u001b[0m\n\u001b[1;32m   5842\u001b[0m     \u001b[38;5;28;01mraise\u001b[39;00m \u001b[38;5;167;01mKeyError\u001b[39;00m(\u001b[38;5;124mf\u001b[39m\u001b[38;5;124m\"\u001b[39m\u001b[38;5;124mNone of [\u001b[39m\u001b[38;5;132;01m{\u001b[39;00mkey\u001b[38;5;132;01m}\u001b[39;00m\u001b[38;5;124m] are in the [\u001b[39m\u001b[38;5;132;01m{\u001b[39;00maxis_name\u001b[38;5;132;01m}\u001b[39;00m\u001b[38;5;124m]\u001b[39m\u001b[38;5;124m\"\u001b[39m)\n\u001b[1;32m   5844\u001b[0m not_found \u001b[38;5;241m=\u001b[39m \u001b[38;5;28mlist\u001b[39m(ensure_index(key)[missing_mask\u001b[38;5;241m.\u001b[39mnonzero()[\u001b[38;5;241m0\u001b[39m]]\u001b[38;5;241m.\u001b[39munique())\n\u001b[0;32m-> 5845\u001b[0m \u001b[38;5;28;01mraise\u001b[39;00m \u001b[38;5;167;01mKeyError\u001b[39;00m(\u001b[38;5;124mf\u001b[39m\u001b[38;5;124m\"\u001b[39m\u001b[38;5;132;01m{\u001b[39;00mnot_found\u001b[38;5;132;01m}\u001b[39;00m\u001b[38;5;124m not in index\u001b[39m\u001b[38;5;124m\"\u001b[39m)\n",
      "\u001b[0;31mKeyError\u001b[0m: \"['gpas_batch', 'gpas_run_number', 'gpas_sample_name'] not in index\""
     ]
    }
   ],
   "source": [
    "upload_csv.decontaminate()"
   ]
  },
  {
   "cell_type": "code",
   "execution_count": 5,
   "id": "d395e3cd-b257-43dd-bbba-a33ef9257181",
   "metadata": {},
   "outputs": [
    {
     "data": {
      "text/plain": [
       "['University_of_Oxford',\n",
       " 'HPRU',\n",
       " 'GPAS_OxUni',\n",
       " 'Good_quality',\n",
       " 'Poor_quality',\n",
       " 'Positive_control',\n",
       " 'Batch_failed_neg_ctrl',\n",
       " 'BRC_Covid',\n",
       " 'Negative_control',\n",
       " 'Batch_passed_neg_ctrl',\n",
       " 'grant_this_to_Oxford',\n",
       " 'Covid_consortium',\n",
       " 'test',\n",
       " 'covid_network_lab',\n",
       " 'ENA_Data']"
      ]
     },
     "execution_count": 5,
     "metadata": {},
     "output_type": "execute_result"
    }
   ],
   "source": [
    "upload_csv.permitted_tags"
   ]
  },
  {
   "cell_type": "code",
   "execution_count": null,
   "id": "a0652b70-bacc-4904-9299-5a2f732eba4b",
   "metadata": {},
   "outputs": [],
   "source": [
    "upload_csv.submit()"
   ]
  },
  {
   "cell_type": "code",
   "execution_count": null,
   "id": "dfb634a2-3d56-4718-b877-d33b01aff12b",
   "metadata": {},
   "outputs": [],
   "source": [
    "upload_csv.df"
   ]
  },
  {
   "cell_type": "code",
   "execution_count": null,
   "id": "9a737426-e19b-435d-ad8e-32ff8a9ca5ec",
   "metadata": {},
   "outputs": [],
   "source": [
    "upload_csv.valid"
   ]
  },
  {
   "cell_type": "code",
   "execution_count": null,
   "id": "261ce0c7-cc9c-40f1-849a-d06df4ae4ae2",
   "metadata": {},
   "outputs": [],
   "source": [
    "upload_csv.validation_errors"
   ]
  },
  {
   "cell_type": "code",
   "execution_count": null,
   "id": "a9cb2899-60d8-4675-bb4f-dc127a79f027",
   "metadata": {},
   "outputs": [],
   "source": [
    "upload_csv.validation_json"
   ]
  },
  {
   "cell_type": "code",
   "execution_count": null,
   "id": "d1099e82-19be-456d-8619-74b93ca86109",
   "metadata": {},
   "outputs": [],
   "source": [
    "upload_csv.decontaminate()"
   ]
  },
  {
   "cell_type": "code",
   "execution_count": null,
   "id": "619b47b3-7333-4115-9753-6c57156810d5",
   "metadata": {},
   "outputs": [],
   "source": [
    "upload_csv.df"
   ]
  },
  {
   "cell_type": "code",
   "execution_count": 15,
   "id": "95b2d0ff-94be-4711-a58c-0a07c7ee2664",
   "metadata": {},
   "outputs": [
    {
     "data": {
      "text/plain": [
       "{'submission': {'status': 'completed',\n",
       "  'batch': {'file_name': 'B-G76M8P2',\n",
       "   'uploaded_on': '2022-03-18T11:38:46.931Z+00:00',\n",
       "   'run_numbers': [0, 1],\n",
       "   'samples': [{'sample': 'a8eab3bf-4329-4653-aa77-104d04cf53c5',\n",
       "     'run_number': 0,\n",
       "     'tags': ['ENA_Data', 'HPRU'],\n",
       "     'control': 'negative',\n",
       "     'collection_date': '2022-02-01',\n",
       "     'country': 'USA',\n",
       "     'region': 'Texas',\n",
       "     'district': '1124',\n",
       "     'specimen': 'SARS-CoV-2',\n",
       "     'host': 'human',\n",
       "     'instrument': {'platform': 'Illumina'},\n",
       "     'primer_scheme': 'auto',\n",
       "     'pe_reads': {'r1_uri': '/tmp/sample1.reads_1.fastq.gz',\n",
       "      'r1_md5': '70d2e71ef2a5bfdfb5e1e8615a36fedd',\n",
       "      'r2_uri': '/tmp/sample1.reads_2.fastq.gz',\n",
       "      'r2_md5': '51eec565569360fbe875bfd7b5ee8e68'}},\n",
       "    {'sample': 'ebe4e8b9-cf00-4a4b-b182-3ffc807b3bb4',\n",
       "     'run_number': 1,\n",
       "     'tags': ['HPRU'],\n",
       "     'control': nan,\n",
       "     'collection_date': '2022-03-01',\n",
       "     'country': 'FRA',\n",
       "     'region': 'Finistère',\n",
       "     'district': nan,\n",
       "     'specimen': 'SARS-CoV-2',\n",
       "     'host': 'human',\n",
       "     'instrument': {'platform': 'Illumina'},\n",
       "     'primer_scheme': 'auto',\n",
       "     'pe_reads': {'r1_uri': '/tmp/sample2.reads_1.fastq.gz',\n",
       "      'r1_md5': '70d2e71ef2a5bfdfb5e1e8615a36fedd',\n",
       "      'r2_uri': '/tmp/sample2.reads_2.fastq.gz',\n",
       "      'r2_md5': '51eec565569360fbe875bfd7b5ee8e68'}},\n",
       "    {'sample': '47f82e72-8437-43cc-bbe1-fc88a7203edd',\n",
       "     'run_number': 1,\n",
       "     'tags': ['ENA_Data'],\n",
       "     'control': 'positive',\n",
       "     'collection_date': '2022-03-08',\n",
       "     'country': 'GBR',\n",
       "     'region': 'Oxfordshire',\n",
       "     'district': nan,\n",
       "     'specimen': 'SARS-CoV-2',\n",
       "     'host': 'human',\n",
       "     'instrument': {'platform': 'Illumina'},\n",
       "     'primer_scheme': 'auto',\n",
       "     'pe_reads': {'r1_uri': '/tmp/sample3.reads_1.fastq.gz',\n",
       "      'r1_md5': '70d2e71ef2a5bfdfb5e1e8615a36fedd',\n",
       "      'r2_uri': '/tmp/sample3.reads_2.fastq.gz',\n",
       "      'r2_md5': '51eec565569360fbe875bfd7b5ee8e68'}}]}}}"
      ]
     },
     "execution_count": 15,
     "metadata": {},
     "output_type": "execute_result"
    }
   ],
   "source": [
    "upload_csv.decontamination_json"
   ]
  },
  {
   "cell_type": "code",
   "execution_count": null,
   "id": "a3f62a82-909b-4477-b5e2-63f6bcb7f578",
   "metadata": {},
   "outputs": [],
   "source": [
    "print(None and None)"
   ]
  },
  {
   "cell_type": "code",
   "execution_count": null,
   "id": "dcb109a3-c955-4b3b-9ffa-81e4ac6269ad",
   "metadata": {},
   "outputs": [],
   "source": [
    "print('a' and 'b')"
   ]
  },
  {
   "cell_type": "code",
   "execution_count": null,
   "id": "e8e67430-9545-48f9-b9ec-6a2f7e00b99d",
   "metadata": {},
   "outputs": [],
   "source": [
    "\n",
    "a = 'f'\n",
    "b = 'None'\n",
    "\n",
    "print(a is not None and b is not None)"
   ]
  },
  {
   "cell_type": "code",
   "execution_count": 17,
   "id": "4a91b86e-3239-4181-8eaf-0d9d4f61ba9a",
   "metadata": {},
   "outputs": [
    {
     "data": {
      "text/html": [
       "<div>\n",
       "<style scoped>\n",
       "    .dataframe tbody tr th:only-of-type {\n",
       "        vertical-align: middle;\n",
       "    }\n",
       "\n",
       "    .dataframe tbody tr th {\n",
       "        vertical-align: top;\n",
       "    }\n",
       "\n",
       "    .dataframe thead th {\n",
       "        text-align: right;\n",
       "    }\n",
       "</style>\n",
       "<table border=\"1\" class=\"dataframe\">\n",
       "  <thead>\n",
       "    <tr style=\"text-align: right;\">\n",
       "      <th></th>\n",
       "      <th>sample_name</th>\n",
       "      <th>index</th>\n",
       "      <th>batch</th>\n",
       "      <th>run_number</th>\n",
       "      <th>fastq1</th>\n",
       "      <th>fastq2</th>\n",
       "      <th>control</th>\n",
       "      <th>collection_date</th>\n",
       "      <th>tags</th>\n",
       "      <th>country</th>\n",
       "      <th>region</th>\n",
       "      <th>district</th>\n",
       "      <th>specimen_organism</th>\n",
       "      <th>host</th>\n",
       "      <th>instrument_platform</th>\n",
       "      <th>primer_scheme</th>\n",
       "      <th>tags_ok</th>\n",
       "      <th>r1_uri</th>\n",
       "      <th>r2_uri</th>\n",
       "      <th>r1_md5</th>\n",
       "      <th>r1_sha</th>\n",
       "      <th>r2_md5</th>\n",
       "      <th>r2_sha</th>\n",
       "      <th>gpas_batch</th>\n",
       "      <th>gpas_run_number</th>\n",
       "    </tr>\n",
       "    <tr>\n",
       "      <th>gpas_sample_name</th>\n",
       "      <th></th>\n",
       "      <th></th>\n",
       "      <th></th>\n",
       "      <th></th>\n",
       "      <th></th>\n",
       "      <th></th>\n",
       "      <th></th>\n",
       "      <th></th>\n",
       "      <th></th>\n",
       "      <th></th>\n",
       "      <th></th>\n",
       "      <th></th>\n",
       "      <th></th>\n",
       "      <th></th>\n",
       "      <th></th>\n",
       "      <th></th>\n",
       "      <th></th>\n",
       "      <th></th>\n",
       "      <th></th>\n",
       "      <th></th>\n",
       "      <th></th>\n",
       "      <th></th>\n",
       "      <th></th>\n",
       "      <th></th>\n",
       "      <th></th>\n",
       "    </tr>\n",
       "  </thead>\n",
       "  <tbody>\n",
       "    <tr>\n",
       "      <th>a8eab3bf-4329-4653-aa77-104d04cf53c5</th>\n",
       "      <td>sample1</td>\n",
       "      <td>0</td>\n",
       "      <td>run1</td>\n",
       "      <td>run1.1</td>\n",
       "      <td>sample1_1.fastq.gz</td>\n",
       "      <td>sample1_2.fastq.gz</td>\n",
       "      <td>negative</td>\n",
       "      <td>2022-02-01</td>\n",
       "      <td>ENA_Data:HPRU</td>\n",
       "      <td>USA</td>\n",
       "      <td>Texas</td>\n",
       "      <td>1124</td>\n",
       "      <td>SARS-CoV-2</td>\n",
       "      <td>human</td>\n",
       "      <td>Illumina</td>\n",
       "      <td>auto</td>\n",
       "      <td>True</td>\n",
       "      <td>/tmp/sample1.reads_1.fastq.gz</td>\n",
       "      <td>/tmp/sample1.reads_2.fastq.gz</td>\n",
       "      <td>70d2e71ef2a5bfdfb5e1e8615a36fedd</td>\n",
       "      <td>d2953dc9c2acc74d1b5ae74ca11661c490eeb7aa16d7c6...</td>\n",
       "      <td>51eec565569360fbe875bfd7b5ee8e68</td>\n",
       "      <td>a899b361b6790ba1df6e9ac048e5e20817cfb10a63a401...</td>\n",
       "      <td>B-G76M8P2</td>\n",
       "      <td>0</td>\n",
       "    </tr>\n",
       "    <tr>\n",
       "      <th>ebe4e8b9-cf00-4a4b-b182-3ffc807b3bb4</th>\n",
       "      <td>sample2</td>\n",
       "      <td>1</td>\n",
       "      <td>run1</td>\n",
       "      <td>run1.2</td>\n",
       "      <td>sample2_1.fastq.gz</td>\n",
       "      <td>sample2_2.fastq.gz</td>\n",
       "      <td>NaN</td>\n",
       "      <td>2022-03-01</td>\n",
       "      <td>HPRU</td>\n",
       "      <td>FRA</td>\n",
       "      <td>Finistère</td>\n",
       "      <td>NaN</td>\n",
       "      <td>SARS-CoV-2</td>\n",
       "      <td>human</td>\n",
       "      <td>Illumina</td>\n",
       "      <td>auto</td>\n",
       "      <td>True</td>\n",
       "      <td>/tmp/sample2.reads_1.fastq.gz</td>\n",
       "      <td>/tmp/sample2.reads_2.fastq.gz</td>\n",
       "      <td>70d2e71ef2a5bfdfb5e1e8615a36fedd</td>\n",
       "      <td>d2953dc9c2acc74d1b5ae74ca11661c490eeb7aa16d7c6...</td>\n",
       "      <td>51eec565569360fbe875bfd7b5ee8e68</td>\n",
       "      <td>a899b361b6790ba1df6e9ac048e5e20817cfb10a63a401...</td>\n",
       "      <td>B-G76M8P2</td>\n",
       "      <td>1</td>\n",
       "    </tr>\n",
       "    <tr>\n",
       "      <th>47f82e72-8437-43cc-bbe1-fc88a7203edd</th>\n",
       "      <td>sample3</td>\n",
       "      <td>2</td>\n",
       "      <td>run1</td>\n",
       "      <td>run1.2</td>\n",
       "      <td>sample3_1.fastq.gz</td>\n",
       "      <td>sample3_2.fastq.gz</td>\n",
       "      <td>positive</td>\n",
       "      <td>2022-03-08</td>\n",
       "      <td>ENA_Data</td>\n",
       "      <td>GBR</td>\n",
       "      <td>Oxfordshire</td>\n",
       "      <td>NaN</td>\n",
       "      <td>SARS-CoV-2</td>\n",
       "      <td>human</td>\n",
       "      <td>Illumina</td>\n",
       "      <td>auto</td>\n",
       "      <td>True</td>\n",
       "      <td>/tmp/sample3.reads_1.fastq.gz</td>\n",
       "      <td>/tmp/sample3.reads_2.fastq.gz</td>\n",
       "      <td>70d2e71ef2a5bfdfb5e1e8615a36fedd</td>\n",
       "      <td>d2953dc9c2acc74d1b5ae74ca11661c490eeb7aa16d7c6...</td>\n",
       "      <td>51eec565569360fbe875bfd7b5ee8e68</td>\n",
       "      <td>a899b361b6790ba1df6e9ac048e5e20817cfb10a63a401...</td>\n",
       "      <td>B-G76M8P2</td>\n",
       "      <td>1</td>\n",
       "    </tr>\n",
       "  </tbody>\n",
       "</table>\n",
       "</div>"
      ],
      "text/plain": [
       "                                     sample_name  index batch run_number  \\\n",
       "gpas_sample_name                                                           \n",
       "a8eab3bf-4329-4653-aa77-104d04cf53c5     sample1      0  run1     run1.1   \n",
       "ebe4e8b9-cf00-4a4b-b182-3ffc807b3bb4     sample2      1  run1     run1.2   \n",
       "47f82e72-8437-43cc-bbe1-fc88a7203edd     sample3      2  run1     run1.2   \n",
       "\n",
       "                                                  fastq1              fastq2  \\\n",
       "gpas_sample_name                                                               \n",
       "a8eab3bf-4329-4653-aa77-104d04cf53c5  sample1_1.fastq.gz  sample1_2.fastq.gz   \n",
       "ebe4e8b9-cf00-4a4b-b182-3ffc807b3bb4  sample2_1.fastq.gz  sample2_2.fastq.gz   \n",
       "47f82e72-8437-43cc-bbe1-fc88a7203edd  sample3_1.fastq.gz  sample3_2.fastq.gz   \n",
       "\n",
       "                                       control collection_date           tags  \\\n",
       "gpas_sample_name                                                                \n",
       "a8eab3bf-4329-4653-aa77-104d04cf53c5  negative      2022-02-01  ENA_Data:HPRU   \n",
       "ebe4e8b9-cf00-4a4b-b182-3ffc807b3bb4       NaN      2022-03-01           HPRU   \n",
       "47f82e72-8437-43cc-bbe1-fc88a7203edd  positive      2022-03-08       ENA_Data   \n",
       "\n",
       "                                     country       region district  \\\n",
       "gpas_sample_name                                                     \n",
       "a8eab3bf-4329-4653-aa77-104d04cf53c5     USA        Texas     1124   \n",
       "ebe4e8b9-cf00-4a4b-b182-3ffc807b3bb4     FRA    Finistère      NaN   \n",
       "47f82e72-8437-43cc-bbe1-fc88a7203edd     GBR  Oxfordshire      NaN   \n",
       "\n",
       "                                     specimen_organism   host  \\\n",
       "gpas_sample_name                                                \n",
       "a8eab3bf-4329-4653-aa77-104d04cf53c5        SARS-CoV-2  human   \n",
       "ebe4e8b9-cf00-4a4b-b182-3ffc807b3bb4        SARS-CoV-2  human   \n",
       "47f82e72-8437-43cc-bbe1-fc88a7203edd        SARS-CoV-2  human   \n",
       "\n",
       "                                     instrument_platform primer_scheme  \\\n",
       "gpas_sample_name                                                         \n",
       "a8eab3bf-4329-4653-aa77-104d04cf53c5            Illumina          auto   \n",
       "ebe4e8b9-cf00-4a4b-b182-3ffc807b3bb4            Illumina          auto   \n",
       "47f82e72-8437-43cc-bbe1-fc88a7203edd            Illumina          auto   \n",
       "\n",
       "                                      tags_ok                         r1_uri  \\\n",
       "gpas_sample_name                                                               \n",
       "a8eab3bf-4329-4653-aa77-104d04cf53c5     True  /tmp/sample1.reads_1.fastq.gz   \n",
       "ebe4e8b9-cf00-4a4b-b182-3ffc807b3bb4     True  /tmp/sample2.reads_1.fastq.gz   \n",
       "47f82e72-8437-43cc-bbe1-fc88a7203edd     True  /tmp/sample3.reads_1.fastq.gz   \n",
       "\n",
       "                                                             r2_uri  \\\n",
       "gpas_sample_name                                                      \n",
       "a8eab3bf-4329-4653-aa77-104d04cf53c5  /tmp/sample1.reads_2.fastq.gz   \n",
       "ebe4e8b9-cf00-4a4b-b182-3ffc807b3bb4  /tmp/sample2.reads_2.fastq.gz   \n",
       "47f82e72-8437-43cc-bbe1-fc88a7203edd  /tmp/sample3.reads_2.fastq.gz   \n",
       "\n",
       "                                                                r1_md5  \\\n",
       "gpas_sample_name                                                         \n",
       "a8eab3bf-4329-4653-aa77-104d04cf53c5  70d2e71ef2a5bfdfb5e1e8615a36fedd   \n",
       "ebe4e8b9-cf00-4a4b-b182-3ffc807b3bb4  70d2e71ef2a5bfdfb5e1e8615a36fedd   \n",
       "47f82e72-8437-43cc-bbe1-fc88a7203edd  70d2e71ef2a5bfdfb5e1e8615a36fedd   \n",
       "\n",
       "                                                                                 r1_sha  \\\n",
       "gpas_sample_name                                                                          \n",
       "a8eab3bf-4329-4653-aa77-104d04cf53c5  d2953dc9c2acc74d1b5ae74ca11661c490eeb7aa16d7c6...   \n",
       "ebe4e8b9-cf00-4a4b-b182-3ffc807b3bb4  d2953dc9c2acc74d1b5ae74ca11661c490eeb7aa16d7c6...   \n",
       "47f82e72-8437-43cc-bbe1-fc88a7203edd  d2953dc9c2acc74d1b5ae74ca11661c490eeb7aa16d7c6...   \n",
       "\n",
       "                                                                r2_md5  \\\n",
       "gpas_sample_name                                                         \n",
       "a8eab3bf-4329-4653-aa77-104d04cf53c5  51eec565569360fbe875bfd7b5ee8e68   \n",
       "ebe4e8b9-cf00-4a4b-b182-3ffc807b3bb4  51eec565569360fbe875bfd7b5ee8e68   \n",
       "47f82e72-8437-43cc-bbe1-fc88a7203edd  51eec565569360fbe875bfd7b5ee8e68   \n",
       "\n",
       "                                                                                 r2_sha  \\\n",
       "gpas_sample_name                                                                          \n",
       "a8eab3bf-4329-4653-aa77-104d04cf53c5  a899b361b6790ba1df6e9ac048e5e20817cfb10a63a401...   \n",
       "ebe4e8b9-cf00-4a4b-b182-3ffc807b3bb4  a899b361b6790ba1df6e9ac048e5e20817cfb10a63a401...   \n",
       "47f82e72-8437-43cc-bbe1-fc88a7203edd  a899b361b6790ba1df6e9ac048e5e20817cfb10a63a401...   \n",
       "\n",
       "                                     gpas_batch  gpas_run_number  \n",
       "gpas_sample_name                                                  \n",
       "a8eab3bf-4329-4653-aa77-104d04cf53c5  B-G76M8P2                0  \n",
       "ebe4e8b9-cf00-4a4b-b182-3ffc807b3bb4  B-G76M8P2                1  \n",
       "47f82e72-8437-43cc-bbe1-fc88a7203edd  B-G76M8P2                1  "
      ]
     },
     "execution_count": 17,
     "metadata": {},
     "output_type": "execute_result"
    }
   ],
   "source": [
    "upload_csv.df"
   ]
  },
  {
   "cell_type": "code",
   "execution_count": 19,
   "id": "7381b17f-41a0-4053-9421-eb4bfdbed755",
   "metadata": {},
   "outputs": [
    {
     "data": {
      "text/plain": [
       "['70d2e71ef2a5bfdfb5e1e8615a36fedd',\n",
       " '70d2e71ef2a5bfdfb5e1e8615a36fedd',\n",
       " '70d2e71ef2a5bfdfb5e1e8615a36fedd']"
      ]
     },
     "execution_count": 19,
     "metadata": {},
     "output_type": "execute_result"
    }
   ],
   "source": [
    "list(upload_csv.df.r1_md5)"
   ]
  },
  {
   "cell_type": "code",
   "execution_count": null,
   "id": "53c4d243-5194-42e4-9e5d-1eed97eb728d",
   "metadata": {},
   "outputs": [],
   "source": []
  }
 ],
 "metadata": {
  "kernelspec": {
   "display_name": "Python 3 (ipykernel)",
   "language": "python",
   "name": "python3"
  },
  "language_info": {
   "codemirror_mode": {
    "name": "ipython",
    "version": 3
   },
   "file_extension": ".py",
   "mimetype": "text/x-python",
   "name": "python",
   "nbconvert_exporter": "python",
   "pygments_lexer": "ipython3",
   "version": "3.9.10"
  }
 },
 "nbformat": 4,
 "nbformat_minor": 5
}
