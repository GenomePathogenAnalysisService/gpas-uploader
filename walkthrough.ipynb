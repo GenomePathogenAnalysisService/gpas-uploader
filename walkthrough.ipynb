{
 "cells": [
  {
   "cell_type": "code",
   "execution_count": 116,
   "id": "8a1f02b1-ff48-448c-8bd6-080da0a24205",
   "metadata": {},
   "outputs": [
    {
     "name": "stdout",
     "output_type": "stream",
     "text": [
      "The autoreload extension is already loaded. To reload it, use:\n",
      "  %reload_ext autoreload\n"
     ]
    }
   ],
   "source": [
    "import pandas, json, pathlib, requests\n",
    "\n",
    "pandas.options.display.max_columns=999\n",
    "\n",
    "import gpas_uploader\n",
    "\n",
    "%load_ext autoreload\n",
    "%autoreload 2"
   ]
  },
  {
   "cell_type": "code",
   "execution_count": 204,
   "id": "c1e08e47-2f08-40b2-b05f-fb025541efcc",
   "metadata": {},
   "outputs": [],
   "source": [
    "upload_csv = gpas_uploader.Batch('/Users/fowler/packages/gpas-uploader/examples/nanopore-fastq-upload.csv',\\\n",
    "                                 run_parallel=True,\\\n",
    "                                 environment='development',\\\n",
    "                                 token_file='/Users/fowler/Dropbox/focus/gpas/api-calls/token.json')"
   ]
  },
  {
   "cell_type": "code",
   "execution_count": 205,
   "id": "aaa3401b-b8a3-45ab-90ca-9726e0ac64be",
   "metadata": {},
   "outputs": [],
   "source": [
    "upload_csv.validate()"
   ]
  },
  {
   "cell_type": "code",
   "execution_count": 206,
   "id": "b12feae5-2559-454c-83c4-da4a26201f4c",
   "metadata": {},
   "outputs": [
    {
     "data": {
      "text/plain": [
       "(True,\n",
       " 'Nanopore',\n",
       " '2022-03-22T14:13:10.327Z+00:00',\n",
       " 'PHILIP.FOWLER@NDM.OX.AC.UK',\n",
       " 'University of Oxford')"
      ]
     },
     "execution_count": 206,
     "metadata": {},
     "output_type": "execute_result"
    }
   ],
   "source": [
    "upload_csv.valid, upload_csv.sequencing_platform, upload_csv.uploaded_on, upload_csv.user_name, upload_csv.user_organisation"
   ]
  },
  {
   "cell_type": "code",
   "execution_count": 207,
   "id": "2500a6af-6cb0-4719-846d-44922ba97689",
   "metadata": {},
   "outputs": [
    {
     "data": {
      "text/html": [
       "<div>\n",
       "<style scoped>\n",
       "    .dataframe tbody tr th:only-of-type {\n",
       "        vertical-align: middle;\n",
       "    }\n",
       "\n",
       "    .dataframe tbody tr th {\n",
       "        vertical-align: top;\n",
       "    }\n",
       "\n",
       "    .dataframe thead th {\n",
       "        text-align: right;\n",
       "    }\n",
       "</style>\n",
       "<table border=\"1\" class=\"dataframe\">\n",
       "  <thead>\n",
       "    <tr style=\"text-align: right;\">\n",
       "      <th></th>\n",
       "      <th>error_message</th>\n",
       "    </tr>\n",
       "    <tr>\n",
       "      <th>sample_name</th>\n",
       "      <th></th>\n",
       "    </tr>\n",
       "  </thead>\n",
       "  <tbody>\n",
       "  </tbody>\n",
       "</table>\n",
       "</div>"
      ],
      "text/plain": [
       "Empty DataFrame\n",
       "Columns: [error_message]\n",
       "Index: []"
      ]
     },
     "execution_count": 207,
     "metadata": {},
     "output_type": "execute_result"
    }
   ],
   "source": [
    "upload_csv.validation_errors"
   ]
  },
  {
   "cell_type": "code",
   "execution_count": 208,
   "id": "776f55a9-b69e-491f-b5dc-fffa30283298",
   "metadata": {},
   "outputs": [],
   "source": [
    "upload_csv.decontaminate()"
   ]
  },
  {
   "cell_type": "code",
   "execution_count": 209,
   "id": "ce1dfc28-d029-4e50-a345-31cd87fdc1c8",
   "metadata": {},
   "outputs": [
    {
     "data": {
      "text/plain": [
       "True"
      ]
     },
     "execution_count": 209,
     "metadata": {},
     "output_type": "execute_result"
    }
   ],
   "source": [
    "upload_csv.decontamination_successful"
   ]
  },
  {
   "cell_type": "code",
   "execution_count": 210,
   "id": "12f59473-e0bf-4472-b4bb-2c77c5f741cf",
   "metadata": {},
   "outputs": [
    {
     "data": {
      "text/html": [
       "<div>\n",
       "<style scoped>\n",
       "    .dataframe tbody tr th:only-of-type {\n",
       "        vertical-align: middle;\n",
       "    }\n",
       "\n",
       "    .dataframe tbody tr th {\n",
       "        vertical-align: top;\n",
       "    }\n",
       "\n",
       "    .dataframe thead th {\n",
       "        text-align: right;\n",
       "    }\n",
       "</style>\n",
       "<table border=\"1\" class=\"dataframe\">\n",
       "  <thead>\n",
       "    <tr style=\"text-align: right;\">\n",
       "      <th></th>\n",
       "      <th>sample_name</th>\n",
       "      <th>error_message</th>\n",
       "    </tr>\n",
       "  </thead>\n",
       "  <tbody>\n",
       "  </tbody>\n",
       "</table>\n",
       "</div>"
      ],
      "text/plain": [
       "Empty DataFrame\n",
       "Columns: [sample_name, error_message]\n",
       "Index: []"
      ]
     },
     "execution_count": 210,
     "metadata": {},
     "output_type": "execute_result"
    }
   ],
   "source": [
    "upload_csv.decontamination_errors"
   ]
  },
  {
   "cell_type": "code",
   "execution_count": 211,
   "id": "71b1e676-f5f1-483a-a067-2c43a4189160",
   "metadata": {},
   "outputs": [
    {
     "data": {
      "text/html": [
       "<div>\n",
       "<style scoped>\n",
       "    .dataframe tbody tr th:only-of-type {\n",
       "        vertical-align: middle;\n",
       "    }\n",
       "\n",
       "    .dataframe tbody tr th {\n",
       "        vertical-align: top;\n",
       "    }\n",
       "\n",
       "    .dataframe thead th {\n",
       "        text-align: right;\n",
       "    }\n",
       "</style>\n",
       "<table border=\"1\" class=\"dataframe\">\n",
       "  <thead>\n",
       "    <tr style=\"text-align: right;\">\n",
       "      <th></th>\n",
       "      <th>index</th>\n",
       "      <th>sample_name</th>\n",
       "      <th>batch</th>\n",
       "      <th>run_number</th>\n",
       "      <th>fastq</th>\n",
       "      <th>control</th>\n",
       "      <th>collection_date</th>\n",
       "      <th>tags</th>\n",
       "      <th>country</th>\n",
       "      <th>region</th>\n",
       "      <th>district</th>\n",
       "      <th>specimen_organism</th>\n",
       "      <th>host</th>\n",
       "      <th>instrument_platform</th>\n",
       "      <th>primer_scheme</th>\n",
       "      <th>tags_ok</th>\n",
       "      <th>r_uri</th>\n",
       "      <th>r_md5</th>\n",
       "      <th>r_sha</th>\n",
       "      <th>gpas_batch</th>\n",
       "      <th>gpas_run_number</th>\n",
       "    </tr>\n",
       "    <tr>\n",
       "      <th>gpas_sample_name</th>\n",
       "      <th></th>\n",
       "      <th></th>\n",
       "      <th></th>\n",
       "      <th></th>\n",
       "      <th></th>\n",
       "      <th></th>\n",
       "      <th></th>\n",
       "      <th></th>\n",
       "      <th></th>\n",
       "      <th></th>\n",
       "      <th></th>\n",
       "      <th></th>\n",
       "      <th></th>\n",
       "      <th></th>\n",
       "      <th></th>\n",
       "      <th></th>\n",
       "      <th></th>\n",
       "      <th></th>\n",
       "      <th></th>\n",
       "      <th></th>\n",
       "      <th></th>\n",
       "    </tr>\n",
       "  </thead>\n",
       "  <tbody>\n",
       "    <tr>\n",
       "      <th>daca47b0-10cd-e8ae-e053-1f01000a8327</th>\n",
       "      <td>0</td>\n",
       "      <td>unpaired1</td>\n",
       "      <td>run1</td>\n",
       "      <td>run1.1</td>\n",
       "      <td>unpaired1.fastq.gz</td>\n",
       "      <td>negative</td>\n",
       "      <td>2022-02-01</td>\n",
       "      <td>test</td>\n",
       "      <td>USA</td>\n",
       "      <td>Texas</td>\n",
       "      <td>1124</td>\n",
       "      <td>SARS-CoV-2</td>\n",
       "      <td>human</td>\n",
       "      <td>Nanopore</td>\n",
       "      <td>auto</td>\n",
       "      <td>True</td>\n",
       "      <td>/tmp/daca47b0-10cd-e8ae-e053-1f01000a8327.read...</td>\n",
       "      <td>467c645b8285270f9ddcee4b0fa2f7ae</td>\n",
       "      <td>a2dd4d2459b1356db1d89219cb405a9ed80694974d19c8...</td>\n",
       "      <td>a-04959727</td>\n",
       "      <td>1</td>\n",
       "    </tr>\n",
       "  </tbody>\n",
       "</table>\n",
       "</div>"
      ],
      "text/plain": [
       "                                      index sample_name batch run_number  \\\n",
       "gpas_sample_name                                                           \n",
       "daca47b0-10cd-e8ae-e053-1f01000a8327      0   unpaired1  run1     run1.1   \n",
       "\n",
       "                                                   fastq   control  \\\n",
       "gpas_sample_name                                                     \n",
       "daca47b0-10cd-e8ae-e053-1f01000a8327  unpaired1.fastq.gz  negative   \n",
       "\n",
       "                                     collection_date  tags country region  \\\n",
       "gpas_sample_name                                                            \n",
       "daca47b0-10cd-e8ae-e053-1f01000a8327      2022-02-01  test     USA  Texas   \n",
       "\n",
       "                                     district specimen_organism   host  \\\n",
       "gpas_sample_name                                                         \n",
       "daca47b0-10cd-e8ae-e053-1f01000a8327     1124        SARS-CoV-2  human   \n",
       "\n",
       "                                     instrument_platform primer_scheme  \\\n",
       "gpas_sample_name                                                         \n",
       "daca47b0-10cd-e8ae-e053-1f01000a8327            Nanopore          auto   \n",
       "\n",
       "                                      tags_ok  \\\n",
       "gpas_sample_name                                \n",
       "daca47b0-10cd-e8ae-e053-1f01000a8327     True   \n",
       "\n",
       "                                                                                  r_uri  \\\n",
       "gpas_sample_name                                                                          \n",
       "daca47b0-10cd-e8ae-e053-1f01000a8327  /tmp/daca47b0-10cd-e8ae-e053-1f01000a8327.read...   \n",
       "\n",
       "                                                                 r_md5  \\\n",
       "gpas_sample_name                                                         \n",
       "daca47b0-10cd-e8ae-e053-1f01000a8327  467c645b8285270f9ddcee4b0fa2f7ae   \n",
       "\n",
       "                                                                                  r_sha  \\\n",
       "gpas_sample_name                                                                          \n",
       "daca47b0-10cd-e8ae-e053-1f01000a8327  a2dd4d2459b1356db1d89219cb405a9ed80694974d19c8...   \n",
       "\n",
       "                                      gpas_batch  gpas_run_number  \n",
       "gpas_sample_name                                                   \n",
       "daca47b0-10cd-e8ae-e053-1f01000a8327  a-04959727                1  "
      ]
     },
     "execution_count": 211,
     "metadata": {},
     "output_type": "execute_result"
    }
   ],
   "source": [
    "upload_csv.df"
   ]
  },
  {
   "cell_type": "code",
   "execution_count": 212,
   "id": "a0652b70-bacc-4904-9299-5a2f732eba4b",
   "metadata": {},
   "outputs": [
    {
     "name": "stdout",
     "output_type": "stream",
     "text": [
      "TLFgFoKopAxVfeANCwdEcakPVdMJfGqg\n",
      "1\n",
      "0\n",
      "{\"submission\": {\"status\": \"completed\", \"batch\": {\"file_name\": \"a-04959727\", \"uploaded_on\": \"2022-03-22T14:13:10.327Z+00:00\", \"run_numbers\": [1], \"samples\": [{\"sample\": \"daca47b0-10cd-e8ae-e053-1f01000a8327\", \"run_number\": 1, \"tags\": [\"test\"], \"control\": \"negative\", \"collection_date\": \"2022-02-01\", \"country\": \"USA\", \"region\": \"Texas\", \"district\": \"1124\", \"specimen\": \"SARS-CoV-2\", \"host\": \"human\", \"instrument\": {\"platform\": \"Nanopore\"}, \"primer_scheme\": \"auto\", \"se_reads\": {\"uri\": \"/tmp/daca47b0-10cd-e8ae-e053-1f01000a8327.reads.fastq.gz\", \"md5\": \"467c645b8285270f9ddcee4b0fa2f7ae\"}}], \"bucketName\": \"TLFgFoKopAxVfeANCwdEcakPVdMJfGqg\", \"uploadedBy\": \"PHILIP.FOWLER@NDM.OX.AC.UK\", \"organisation\": \"University of Oxford\"}}}\n"
     ]
    }
   ],
   "source": [
    "upload_csv.submit()"
   ]
  },
  {
   "cell_type": "code",
   "execution_count": 236,
   "id": "37d33d32-76d0-4951-a2ef-1f2a5af27f29",
   "metadata": {},
   "outputs": [
    {
     "data": {
      "text/plain": [
       "'https://portal.dev.gpas.ox.ac.uk/ords/gpasdevpdb1/grep/electron/batches'"
      ]
     },
     "execution_count": 236,
     "metadata": {},
     "output_type": "execute_result"
    }
   ],
   "source": [
    "url  = upload_csv.environment_urls[upload_csv.environment]['WORLD_URL'] + upload_csv.environment_urls[upload_csv.environment]['ORDS_PATH'] + '/batches'\n",
    "url"
   ]
  },
  {
   "cell_type": "code",
   "execution_count": 235,
   "id": "c99a3a77-6d17-4873-9e64-3e29290783c7",
   "metadata": {},
   "outputs": [],
   "source": [
    "url = 'https://portal.dev.gpas.ox.ac.uk/ords/gpasdevpdb1/batches'"
   ]
  },
  {
   "cell_type": "code",
   "execution_count": 241,
   "id": "b4c7b902-816c-418a-bd24-76aa26a92ac7",
   "metadata": {},
   "outputs": [],
   "source": [
    "a = requests.post(url=url, json=upload_csv.apex_json, headers=upload_csv.headers)"
   ]
  },
  {
   "cell_type": "code",
   "execution_count": 242,
   "id": "0b45a59e-170b-4f40-9b29-82d250c0a9fa",
   "metadata": {},
   "outputs": [
    {
     "data": {
      "text/plain": [
       "200"
      ]
     },
     "execution_count": 242,
     "metadata": {},
     "output_type": "execute_result"
    }
   ],
   "source": [
    "a.status_code"
   ]
  },
  {
   "cell_type": "code",
   "execution_count": null,
   "id": "bdb46f3f-9053-4ce1-9d31-41c3d6e040a2",
   "metadata": {},
   "outputs": [],
   "source": []
  }
 ],
 "metadata": {
  "kernelspec": {
   "display_name": "Python 3 (ipykernel)",
   "language": "python",
   "name": "python3"
  },
  "language_info": {
   "codemirror_mode": {
    "name": "ipython",
    "version": 3
   },
   "file_extension": ".py",
   "mimetype": "text/x-python",
   "name": "python",
   "nbconvert_exporter": "python",
   "pygments_lexer": "ipython3",
   "version": "3.9.10"
  }
 },
 "nbformat": 4,
 "nbformat_minor": 5
}
